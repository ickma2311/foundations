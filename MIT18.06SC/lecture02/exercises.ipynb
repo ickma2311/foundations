{
 "cells": [
  {
   "cell_type": "markdown",
   "metadata": {},
   "source": [
    "# MIT 18.06SC — Lecture 2: Gaussian Elimination Exercise\n",
    "\n",
    "Implement Gaussian elimination from scratch to solve linear systems $Ax = b$."
   ]
  },
  {
   "cell_type": "markdown",
   "metadata": {},
   "source": [
    "## Setup\n",
    "Import necessary libraries."
   ]
  },
  {
   "cell_type": "code",
   "execution_count": null,
   "metadata": {},
   "outputs": [],
   "source": [
    "import numpy as np\n",
    "\n",
    "# Set random seed for reproducibility\n",
    "np.random.seed(42)\n",
    "\n",
    "print(\"✓ Setup complete\")"
   ]
  },
  {
   "cell_type": "markdown",
   "metadata": {},
   "source": [
    "## Exercise: Implement Gaussian Elimination\n",
    "\n",
    "Implement a function that solves $Ax = b$ using Gaussian elimination.\n",
    "\n",
    "**Algorithm**:\n",
    "1. **Forward Elimination**: Transform $A$ into upper triangular form $U$\n",
    "   - For each column $j$ from 0 to $n-1$:\n",
    "     - Pivot = $A[j, j]$\n",
    "     - For each row $i$ below pivot ($i > j$):\n",
    "       - Compute multiplier: $m_{ij} = A[i, j] / \\text{pivot}$\n",
    "       - Row operation: $A[i, :] = A[i, :] - m_{ij} \\cdot A[j, :]$\n",
    "       - Update RHS: $b[i] = b[i] - m_{ij} \\cdot b[j]$\n",
    "\n",
    "2. **Back Substitution**: Solve $Ux = c$ from bottom to top\n",
    "   - Start from last row: $x[n-1] = c[n-1] / U[n-1, n-1]$\n",
    "   - For each row $i$ from $n-2$ down to $0$:\n",
    "     - $x[i] = (c[i] - \\sum_{j=i+1}^{n-1} U[i,j] \\cdot x[j]) / U[i,i]$"
   ]
  },
  {
   "cell_type": "code",
   "execution_count": 7,
   "metadata": {},
   "outputs": [
    {
     "name": "stdout",
     "output_type": "stream",
     "text": [
      "✓ Function defined\n"
     ]
    }
   ],
   "source": [
    "from curses import A_COLOR\n",
    "\n",
    "\n",
    "def gaussian_elimination(A, b):\n",
    "    \"\"\"\n",
    "    Solve the linear system Ax = b using Gaussian elimination.\n",
    "    \n",
    "    Parameters:\n",
    "    -----------\n",
    "    A : numpy.ndarray, shape (n, n)\n",
    "        Coefficient matrix\n",
    "    b : numpy.ndarray, shape (n,)\n",
    "        Right-hand side vector\n",
    "    \n",
    "    Returns:\n",
    "    --------\n",
    "    x : numpy.ndarray, shape (n,)\n",
    "        Solution vector\n",
    "    \"\"\"\n",
    "    # TODO: Implement Gaussian elimination\n",
    "    A_copy = A.copy()\n",
    "    b_copy = b.copy()\n",
    "\n",
    "    rows,cols = A.shape\n",
    "    assert rows == cols, \"Matrix must be square\"\n",
    "    \n",
    "    for i in range(rows-1):\n",
    "        multiplier = A_copy[i+1:,i]/A_copy[i,i]\n",
    "        for index,m in enumerate(multiplier):\n",
    "            A_copy[i+1+index] = A_copy[i+1+index] - m * A_copy[i]\n",
    "            assert A_copy[i+1+index,i] == 0, \"Upper triangular matrix expected\"\n",
    "            b_copy[i+1+index] = b_copy[i+1+index] - m * b_copy[i]\n",
    "\n",
    "    U = A_copy\n",
    "    print(\"Upper triangular matrix:\")\n",
    "    print(U)\n",
    "    # Now our matrix is upper triangular\n",
    "    # Solve for x from bottom to top\n",
    "    x = np.zeros(rows)\n",
    "    for i in range(rows-1, -1, -1):\n",
    "        x[i] = (b_copy[i] - np.dot(A_copy[i][i+1:], x[i+1:])) / A_copy[i][i]\n",
    "\n",
    "    return x\n",
    "\n",
    "    \n",
    "\n",
    "print(\"✓ Function defined\")"
   ]
  },
  {
   "cell_type": "markdown",
   "metadata": {},
   "source": [
    "## Test: Compare with NumPy\n",
    "\n",
    "Test on the system from the lecture:\n",
    "$$\\begin{cases}\n",
    "2u + v + w = 5 \\\\\n",
    "4u - 6v = -2 \\\\\n",
    "-2u + 7v + 2w = 9\n",
    "\\end{cases}$$\n",
    "\n",
    "Expected solution: $u = 1, v = 1, w = 2$"
   ]
  },
  {
   "cell_type": "code",
   "execution_count": 8,
   "metadata": {},
   "outputs": [
    {
     "name": "stdout",
     "output_type": "stream",
     "text": [
      "System to solve:\n",
      "A =\n",
      "[[ 2.  1.  1.]\n",
      " [ 4. -6.  0.]\n",
      " [-2.  7.  2.]]\n",
      "\n",
      "b =\n",
      "[ 5. -2.  9.]\n",
      "Upper triangular matrix:\n",
      "[[ 2.  1.  1.]\n",
      " [ 0. -8. -2.]\n",
      " [ 0.  0.  1.]]\n",
      "\n",
      "============================================================\n",
      "Results:\n",
      "============================================================\n",
      "Our implementation:      x = [1. 1. 2.]\n",
      "NumPy (np.linalg.solve): x = [1. 1. 2.]\n",
      "============================================================\n",
      "\n",
      "Residual (our):   ||Ax - b|| = 0.00e+00\n",
      "Residual (NumPy): ||Ax - b|| = 0.00e+00\n",
      "\n",
      "Difference: ||x_our - x_numpy|| = 0.00e+00\n",
      "\n",
      "✅ Solutions match! Implementation is correct.\n"
     ]
    }
   ],
   "source": [
    "# Define the system from lecture\n",
    "A = np.array([\n",
    "    [2, 1, 1],\n",
    "    [4, -6, 0],\n",
    "    [-2, 7, 2]\n",
    "], dtype=float)\n",
    "\n",
    "b = np.array([5, -2, 9], dtype=float)\n",
    "\n",
    "print(\"System to solve:\")\n",
    "print(\"A =\")\n",
    "print(A)\n",
    "print(\"\\nb =\")\n",
    "print(b)\n",
    "\n",
    "# Solve using our implementation\n",
    "x_our = gaussian_elimination(A, b)\n",
    "\n",
    "# Solve using NumPy\n",
    "x_numpy = np.linalg.solve(A, b)\n",
    "\n",
    "# Compare results\n",
    "print(\"\\n\" + \"=\" * 60)\n",
    "print(\"Results:\")\n",
    "print(\"=\" * 60)\n",
    "print(f\"Our implementation:      x = {x_our}\")\n",
    "print(f\"NumPy (np.linalg.solve): x = {x_numpy}\")\n",
    "print(\"=\" * 60)\n",
    "\n",
    "# Verify solution\n",
    "residual_our = np.linalg.norm(A @ x_our - b)\n",
    "residual_numpy = np.linalg.norm(A @ x_numpy - b)\n",
    "\n",
    "print(f\"\\nResidual (our):   ||Ax - b|| = {residual_our:.2e}\")\n",
    "print(f\"Residual (NumPy): ||Ax - b|| = {residual_numpy:.2e}\")\n",
    "\n",
    "# Check difference\n",
    "difference = np.linalg.norm(x_our - x_numpy)\n",
    "print(f\"\\nDifference: ||x_our - x_numpy|| = {difference:.2e}\")\n",
    "\n",
    "if difference < 1e-10:\n",
    "    print(\"\\n✅ Solutions match! Implementation is correct.\")\n",
    "else:\n",
    "    print(\"\\n❌ Solutions differ. Check implementation.\")"
   ]
  },
  {
   "cell_type": "markdown",
   "metadata": {},
   "source": [
    "## Visualize Upper Triangular Matrix\n",
    "\n",
    "Test on a larger 10×10 system to see the upper triangular structure."
   ]
  },
  {
   "cell_type": "code",
   "source": "# Create a 10x10 random system\nnp.random.seed(123)\nA_large = np.random.randn(10, 10)\nb_large = np.random.randn(10)\n\nprint(\"Original 10×10 matrix A:\")\nprint(A_large)\nprint(\"\\n\" + \"=\" * 70)\n\n# Solve using our implementation\nx_large = gaussian_elimination(A_large, b_large)\n\nprint(\"=\" * 70)\nprint(\"\\n✓ Upper triangular structure achieved!\")",
   "metadata": {},
   "execution_count": null,
   "outputs": []
  }
 ],
 "metadata": {
  "kernelspec": {
   "display_name": "Python 3",
   "language": "python",
   "name": "python3"
  },
  "language_info": {
   "codemirror_mode": {
    "name": "ipython",
    "version": 3
   },
   "file_extension": ".py",
   "mimetype": "text/x-python",
   "name": "python",
   "nbconvert_exporter": "python",
   "pygments_lexer": "ipython3",
   "version": "3.8.0"
  }
 },
 "nbformat": 4,
 "nbformat_minor": 4
}