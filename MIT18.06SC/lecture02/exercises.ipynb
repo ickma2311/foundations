{
 "cells": [
  {
   "cell_type": "markdown",
   "metadata": {},
   "source": [
    "# MIT 18.06SC — Lecture 2: Gaussian Elimination Exercise\n",
    "\n",
    "Implement Gaussian elimination from scratch to solve linear systems $Ax = b$."
   ]
  },
  {
   "cell_type": "markdown",
   "metadata": {},
   "source": [
    "## Setup\n",
    "Import necessary libraries."
   ]
  },
  {
   "cell_type": "code",
   "execution_count": null,
   "metadata": {},
   "outputs": [],
   "source": [
    "import numpy as np\n",
    "\n",
    "# Set random seed for reproducibility\n",
    "np.random.seed(42)\n",
    "\n",
    "print(\"✓ Setup complete\")"
   ]
  },
  {
   "cell_type": "markdown",
   "metadata": {},
   "source": [
    "## Exercise: Implement Gaussian Elimination\n",
    "\n",
    "Implement a function that solves $Ax = b$ using Gaussian elimination.\n",
    "\n",
    "**Algorithm**:\n",
    "1. **Forward Elimination**: Transform $A$ into upper triangular form $U$\n",
    "   - For each column $j$ from 0 to $n-1$:\n",
    "     - Pivot = $A[j, j]$\n",
    "     - For each row $i$ below pivot ($i > j$):\n",
    "       - Compute multiplier: $m_{ij} = A[i, j] / \\text{pivot}$\n",
    "       - Row operation: $A[i, :] = A[i, :] - m_{ij} \\cdot A[j, :]$\n",
    "       - Update RHS: $b[i] = b[i] - m_{ij} \\cdot b[j]$\n",
    "\n",
    "2. **Back Substitution**: Solve $Ux = c$ from bottom to top\n",
    "   - Start from last row: $x[n-1] = c[n-1] / U[n-1, n-1]$\n",
    "   - For each row $i$ from $n-2$ down to $0$:\n",
    "     - $x[i] = (c[i] - \\sum_{j=i+1}^{n-1} U[i,j] \\cdot x[j]) / U[i,i]$"
   ]
  },
  {
   "cell_type": "code",
   "execution_count": null,
   "metadata": {},
   "outputs": [],
   "source": [
    "def gaussian_elimination(A, b):\n",
    "    \"\"\"\n",
    "    Solve the linear system Ax = b using Gaussian elimination.\n",
    "    \n",
    "    Parameters:\n",
    "    -----------\n",
    "    A : numpy.ndarray, shape (n, n)\n",
    "        Coefficient matrix\n",
    "    b : numpy.ndarray, shape (n,)\n",
    "        Right-hand side vector\n",
    "    \n",
    "    Returns:\n",
    "    --------\n",
    "    x : numpy.ndarray, shape (n,)\n",
    "        Solution vector\n",
    "    \"\"\"\n",
    "    # TODO: Implement Gaussian elimination\n",
    "    # Hint 1: Make copies to avoid modifying input\n",
    "    # Hint 2: Forward elimination creates upper triangular matrix\n",
    "    # Hint 3: Back substitution solves from last row upward\n",
    "    \n",
    "    pass\n",
    "\n",
    "print(\"✓ Function defined\")"
   ]
  },
  {
   "cell_type": "markdown",
   "metadata": {},
   "source": [
    "## Test: Compare with NumPy\n",
    "\n",
    "Test on the system from the lecture:\n",
    "$$\\begin{cases}\n",
    "2u + v + w = 5 \\\\\n",
    "4u - 6v = -2 \\\\\n",
    "-2u + 7v + 2w = 9\n",
    "\\end{cases}$$\n",
    "\n",
    "Expected solution: $u = 1, v = 1, w = 2$"
   ]
  },
  {
   "cell_type": "code",
   "execution_count": null,
   "metadata": {},
   "outputs": [],
   "source": [
    "# Define the system from lecture\n",
    "A = np.array([\n",
    "    [2, 1, 1],\n",
    "    [4, -6, 0],\n",
    "    [-2, 7, 2]\n",
    "], dtype=float)\n",
    "\n",
    "b = np.array([5, -2, 9], dtype=float)\n",
    "\n",
    "print(\"System to solve:\")\n",
    "print(\"A =\")\n",
    "print(A)\n",
    "print(\"\\nb =\")\n",
    "print(b)\n",
    "\n",
    "# Solve using our implementation\n",
    "x_our = gaussian_elimination(A, b)\n",
    "\n",
    "# Solve using NumPy\n",
    "x_numpy = np.linalg.solve(A, b)\n",
    "\n",
    "# Compare results\n",
    "print(\"\\n\" + \"=\" * 60)\n",
    "print(\"Results:\")\n",
    "print(\"=\" * 60)\n",
    "print(f\"Our implementation:      x = {x_our}\")\n",
    "print(f\"NumPy (np.linalg.solve): x = {x_numpy}\")\n",
    "print(\"=\" * 60)\n",
    "\n",
    "# Verify solution\n",
    "residual_our = np.linalg.norm(A @ x_our - b)\n",
    "residual_numpy = np.linalg.norm(A @ x_numpy - b)\n",
    "\n",
    "print(f\"\\nResidual (our):   ||Ax - b|| = {residual_our:.2e}\")\n",
    "print(f\"Residual (NumPy): ||Ax - b|| = {residual_numpy:.2e}\")\n",
    "\n",
    "# Check difference\n",
    "difference = np.linalg.norm(x_our - x_numpy)\n",
    "print(f\"\\nDifference: ||x_our - x_numpy|| = {difference:.2e}\")\n",
    "\n",
    "if difference < 1e-10:\n",
    "    print(\"\\n✅ Solutions match! Implementation is correct.\")\n",
    "else:\n",
    "    print(\"\\n❌ Solutions differ. Check implementation.\")"
   ]
  }
 ],
 "metadata": {
  "kernelspec": {
   "display_name": "Python 3",
   "language": "python",
   "name": "python3"
  },
  "language_info": {
   "codemirror_mode": {
    "name": "ipython",
    "version": 3
   },
   "file_extension": ".py",
   "mimetype": "text/x-python",
   "name": "python",
   "nbconvert_exporter": "python",
   "pygments_lexer": "ipython3",
   "version": "3.8.0"
  }
 },
 "nbformat": 4,
 "nbformat_minor": 4
}
