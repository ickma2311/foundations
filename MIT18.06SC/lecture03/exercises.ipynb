{
 "cells": [
  {
   "cell_type": "markdown",
   "metadata": {},
   "source": [
    "# Lecture 3 Exercises: Matrix Multiplication and Inverse\n",
    "\n",
    "This notebook provides hands-on practice for understanding matrix multiplication from multiple perspectives."
   ]
  },
  {
   "cell_type": "code",
   "execution_count": 4,
   "metadata": {},
   "outputs": [
    {
     "name": "stdout",
     "output_type": "stream",
     "text": [
      "NumPy imported successfully\n"
     ]
    }
   ],
   "source": [
    "import numpy as np\n",
    "import matplotlib.pyplot as plt\n",
    "from typing import Tuple\n",
    "\n",
    "print(\"NumPy imported successfully\")"
   ]
  },
  {
   "cell_type": "markdown",
   "metadata": {},
   "source": [
    "## Exercise 1: Four Perspectives of Matrix Multiplication\n",
    "\n",
    "Given two matrices:\n",
    "$$\n",
    "A = \\begin{bmatrix} 1 & 2 \\\\ 3 & 4 \\end{bmatrix}, \\quad\n",
    "B = \\begin{bmatrix} 5 & 6 \\\\ 7 & 8 \\end{bmatrix}\n",
    "$$\n",
    "\n",
    "Compute $C = AB$ using **all four perspectives**."
   ]
  },
  {
   "cell_type": "code",
   "execution_count": 5,
   "metadata": {},
   "outputs": [
    {
     "name": "stdout",
     "output_type": "stream",
     "text": [
      "Matrix A:\n",
      "[[1 2]\n",
      " [3 4]]\n",
      "\n",
      "Matrix B:\n",
      "[[5 6]\n",
      " [7 8]]\n",
      "\n",
      "Expected result C = AB:\n",
      "[[19 22]\n",
      " [43 50]]\n"
     ]
    }
   ],
   "source": [
    "# Define matrices A and B\n",
    "A = np.array([[1, 2],\n",
    "              [3, 4]])\n",
    "\n",
    "B = np.array([[5, 6],\n",
    "              [7, 8]])\n",
    "\n",
    "print(\"Matrix A:\")\n",
    "print(A)\n",
    "print(\"\\nMatrix B:\")\n",
    "print(B)\n",
    "\n",
    "# Verify with NumPy\n",
    "C_numpy = A @ B\n",
    "print(\"\\nExpected result C = AB:\")\n",
    "print(C_numpy)"
   ]
  },
  {
   "cell_type": "markdown",
   "metadata": {},
   "source": [
    "### Perspective 1: Element-by-Element (Row × Column)\n",
    "\n",
    "Each element $C_{ij}$ is computed by:\n",
    "$$\n",
    "C_{ij} = \\sum_{k=1}^n A_{ik} \\cdot B_{kj}\n",
    "$$\n",
    "\n",
    "**Your task:** Implement the element-by-element multiplication."
   ]
  },
  {
   "cell_type": "code",
   "execution_count": 6,
   "metadata": {},
   "outputs": [
    {
     "name": "stdout",
     "output_type": "stream",
     "text": [
      "Result using element-by-element:\n",
      "[[19. 22.]\n",
      " [43. 50.]]\n",
      "\n",
      "Matches NumPy result: True\n"
     ]
    }
   ],
   "source": [
    "def multiply_element_wise(A: np.ndarray, B: np.ndarray) -> np.ndarray:\n",
    "    \"\"\"\n",
    "    Compute C = AB using element-by-element (row × column) method.\n",
    "    \n",
    "    For each element C[i,j], compute the dot product of:\n",
    "    - Row i of A\n",
    "    - Column j of B\n",
    "    \"\"\"\n",
    "    m, n = A.shape\n",
    "    n2, p = B.shape\n",
    "    assert n == n2, \"Matrix dimensions don't match!\"\n",
    "    \n",
    "    C = np.zeros((m, p))\n",
    "    \n",
    "    # TODO: Implement element-by-element multiplication\n",
    "    # Hint: Use nested loops for i, j, and k\n",
    "    # C[i,j] = sum of A[i,k] * B[k,j] for all k\n",
    "    \n",
    "    # YOUR CODE HERE\n",
    "    for i in range(m):\n",
    "        for j in range(p):\n",
    "            for k in range(n):\n",
    "                C[i,j]+=A[i,k]*B[k,j]\n",
    "    return C\n",
    "\n",
    "# Test your implementation\n",
    "C_element = multiply_element_wise(A, B)\n",
    "print(\"Result using element-by-element:\")\n",
    "print(C_element)\n",
    "print(f\"\\nMatches NumPy result: {np.allclose(C_element, C_numpy)}\")"
   ]
  },
  {
   "cell_type": "markdown",
   "metadata": {},
   "source": [
    "**Manual calculation for verification:**\n",
    "\n",
    "$$\n",
    "C_{00} = 1 \\cdot 5 + 2 \\cdot 7 = 5 + 14 = 19\n",
    "$$\n",
    "$$\n",
    "C_{01} = 1 \\cdot 6 + 2 \\cdot 8 = 6 + 16 = 22\n",
    "$$\n",
    "$$\n",
    "C_{10} = 3 \\cdot 5 + 4 \\cdot 7 = 15 + 28 = 43\n",
    "$$\n",
    "$$\n",
    "C_{11} = 3 \\cdot 6 + 4 \\cdot 8 = 18 + 32 = 50\n",
    "$$"
   ]
  },
  {
   "cell_type": "markdown",
   "metadata": {},
   "source": [
    "### Perspective 2: Column View\n",
    "\n",
    "**Key insight:** Each column of $C$ is $A$ times the corresponding column of $B$.\n",
    "\n",
    "$$\n",
    "C = \\begin{bmatrix} | & | \\\\ Ab_1 & Ab_2 \\\\ | & | \\end{bmatrix}\n",
    "$$\n",
    "\n",
    "where $b_1, b_2$ are columns of $B$."
   ]
  },
  {
   "cell_type": "code",
   "execution_count": 7,
   "metadata": {},
   "outputs": [
    {
     "name": "stdout",
     "output_type": "stream",
     "text": [
      "Result using column view:\n",
      "[[19. 22.]\n",
      " [43. 50.]]\n",
      "\n",
      "Matches NumPy result: True\n"
     ]
    }
   ],
   "source": [
    "def multiply_column_view(A: np.ndarray, B: np.ndarray) -> np.ndarray:\n",
    "    \"\"\"\n",
    "    Compute C = AB using column perspective.\n",
    "    \n",
    "    Each column of C is A times the corresponding column of B.\n",
    "    \"\"\"\n",
    "    m, n = A.shape\n",
    "    n2, p = B.shape\n",
    "    assert n == n2, \"Matrix dimensions don't match!\"\n",
    "    \n",
    "    C = np.zeros((m, p))\n",
    "    \n",
    "    # TODO: Implement column-wise multiplication\n",
    "    # Hint: Loop over columns of B\n",
    "    # C[:, j] = A @ B[:, j]\n",
    "    \n",
    "    for j in range(p):\n",
    "        C[:,j]=A@B[:,j]\n",
    "    \n",
    "    return C\n",
    "\n",
    "# Test your implementation\n",
    "C_column = multiply_column_view(A, B)\n",
    "print(\"Result using column view:\")\n",
    "print(C_column)\n",
    "print(f\"\\nMatches NumPy result: {np.allclose(C_column, C_numpy)}\")"
   ]
  },
  {
   "cell_type": "markdown",
   "metadata": {},
   "source": [
    "**Manual calculation for column 1 of C:**\n",
    "\n",
    "$$\n",
    "Ab_1 = \\begin{bmatrix} 1 & 2 \\\\ 3 & 4 \\end{bmatrix} \\begin{bmatrix} 5 \\\\ 7 \\end{bmatrix}\n",
    "= 5 \\begin{bmatrix} 1 \\\\ 3 \\end{bmatrix} + 7 \\begin{bmatrix} 2 \\\\ 4 \\end{bmatrix}\n",
    "= \\begin{bmatrix} 5 \\\\ 15 \\end{bmatrix} + \\begin{bmatrix} 14 \\\\ 28 \\end{bmatrix}\n",
    "= \\begin{bmatrix} 19 \\\\ 43 \\end{bmatrix}\n",
    "$$"
   ]
  },
  {
   "cell_type": "markdown",
   "metadata": {},
   "source": [
    "### Perspective 3: Row View\n",
    "\n",
    "**Key insight:** Each row of $C$ is the corresponding row of $A$ times $B$.\n",
    "\n",
    "$$\n",
    "C = \\begin{bmatrix} — & a_1B & — \\\\ — & a_2B & — \\end{bmatrix}\n",
    "$$\n",
    "\n",
    "where $a_1, a_2$ are rows of $A$."
   ]
  },
  {
   "cell_type": "code",
   "execution_count": 9,
   "metadata": {},
   "outputs": [
    {
     "name": "stdout",
     "output_type": "stream",
     "text": [
      "Result using row view:\n",
      "[[19. 22.]\n",
      " [43. 50.]]\n",
      "\n",
      "Matches NumPy result: True\n"
     ]
    }
   ],
   "source": [
    "def multiply_row_view(A: np.ndarray, B: np.ndarray) -> np.ndarray:\n",
    "    \"\"\"\n",
    "    Compute C = AB using row perspective.\n",
    "    \n",
    "    Each row of C is the corresponding row of A times B.\n",
    "    \"\"\"\n",
    "    m, n = A.shape\n",
    "    n2, p = B.shape\n",
    "    assert n == n2, \"Matrix dimensions don't match!\"\n",
    "    \n",
    "    C = np.zeros((m, p))\n",
    "    \n",
    "    # TODO: Implement row-wise multiplication\n",
    "    # Hint: Loop over rows of A\n",
    "    # C[i, :] = A[i, :] @ B\n",
    "    \n",
    "    # YOUR CODE HERE\n",
    "    for i in range(m):\n",
    "        C[i,:]=A[i,:]@B\n",
    "    return C\n",
    "\n",
    "# Test your implementation\n",
    "C_row = multiply_row_view(A, B)\n",
    "print(\"Result using row view:\")\n",
    "print(C_row)\n",
    "print(f\"\\nMatches NumPy result: {np.allclose(C_row, C_numpy)}\")"
   ]
  },
  {
   "cell_type": "markdown",
   "metadata": {},
   "source": [
    "**Manual calculation for row 1 of C:**\n",
    "\n",
    "$$\n",
    "a_1B = \\begin{bmatrix} 1 & 2 \\end{bmatrix} \\begin{bmatrix} 5 & 6 \\\\ 7 & 8 \\end{bmatrix}\n",
    "= \\begin{bmatrix} 1 \\cdot 5 + 2 \\cdot 7 & 1 \\cdot 6 + 2 \\cdot 8 \\end{bmatrix}\n",
    "= \\begin{bmatrix} 19 & 22 \\end{bmatrix}\n",
    "$$"
   ]
  },
  {
   "cell_type": "markdown",
   "metadata": {},
   "source": [
    "### Perspective 4: Column × Row (Rank-1 Matrices)\n",
    "\n",
    "**Key insight:** $AB$ is a sum of rank-1 matrices (outer products).\n",
    "\n",
    "$$\n",
    "AB = \\sum_{k=1}^n (\\text{column } k \\text{ of } A) \\times (\\text{row } k \\text{ of } B)\n",
    "$$\n",
    "\n",
    "Each term is a **rank-1 matrix** formed by the outer product of a column and a row."
   ]
  },
  {
   "cell_type": "code",
   "execution_count": 10,
   "metadata": {},
   "outputs": [
    {
     "name": "stdout",
     "output_type": "stream",
     "text": [
      "Result using rank-1 view:\n",
      "[[19. 22.]\n",
      " [43. 50.]]\n",
      "\n",
      "Matches NumPy result: True\n"
     ]
    }
   ],
   "source": [
    "def multiply_rank1_view(A: np.ndarray, B: np.ndarray) -> np.ndarray:\n",
    "    \"\"\"\n",
    "    Compute C = AB using rank-1 (column × row) perspective.\n",
    "    \n",
    "    C = sum of outer products: column_k(A) × row_k(B)\n",
    "    \"\"\"\n",
    "    m, n = A.shape\n",
    "    n2, p = B.shape\n",
    "    assert n == n2, \"Matrix dimensions don't match!\"\n",
    "    \n",
    "    C = np.zeros((m, p))\n",
    "    \n",
    "    # TODO: Implement rank-1 multiplication\n",
    "    # Hint: Loop over k from 0 to n-1\n",
    "    # Add np.outer(A[:, k], B[k, :]) to C\n",
    "    \n",
    "    # YOUR CODE HERE\n",
    "\n",
    "    for k in range(n):\n",
    "        C+=np.outer(A[:,k],B[k,:])\n",
    "    \n",
    "    return C\n",
    "\n",
    "# Test your implementation\n",
    "C_rank1 = multiply_rank1_view(A, B)\n",
    "print(\"Result using rank-1 view:\")\n",
    "print(C_rank1)\n",
    "print(f\"\\nMatches NumPy result: {np.allclose(C_rank1, C_numpy)}\")"
   ]
  },
  {
   "cell_type": "markdown",
   "metadata": {},
   "source": [
    "**Manual calculation - decomposition into rank-1 matrices:**\n",
    "\n",
    "$$\n",
    "AB = \\begin{bmatrix} 1 \\\\ 3 \\end{bmatrix} \\begin{bmatrix} 5 & 6 \\end{bmatrix}\n",
    "+ \\begin{bmatrix} 2 \\\\ 4 \\end{bmatrix} \\begin{bmatrix} 7 & 8 \\end{bmatrix}\n",
    "$$\n",
    "\n",
    "$$\n",
    "= \\begin{bmatrix} 5 & 6 \\\\ 15 & 18 \\end{bmatrix}\n",
    "+ \\begin{bmatrix} 14 & 16 \\\\ 28 & 32 \\end{bmatrix}\n",
    "= \\begin{bmatrix} 19 & 22 \\\\ 43 & 50 \\end{bmatrix}\n",
    "$$\n",
    "\n",
    "Let's visualize this decomposition:"
   ]
  },
  {
   "cell_type": "code",
   "execution_count": 11,
   "metadata": {},
   "outputs": [
    {
     "data": {
      "image/png": "[encoded data removed]",
      "text/plain": [
       "<Figure size 1600x300 with 4 Axes>"
      ]
     },
     "metadata": {},
     "output_type": "display_data"
    },
    {
     "name": "stdout",
     "output_type": "stream",
     "text": [
      "\n",
      "Rank-1 term 1:\n",
      "[[ 5  6]\n",
      " [15 18]]\n",
      "\n",
      "Rank-1 term 2:\n",
      "[[14 16]\n",
      " [28 32]]\n",
      "\n",
      "Sum:\n",
      "[[19 22]\n",
      " [43 50]]\n"
     ]
    }
   ],
   "source": [
    "# Visualize the rank-1 decomposition\n",
    "fig, axes = plt.subplots(1, 4, figsize=(16, 3))\n",
    "\n",
    "# First rank-1 term\n",
    "rank1_term1 = np.outer(A[:, 0], B[0, :])\n",
    "axes[0].imshow(rank1_term1, cmap='RdBu_r', vmin=-50, vmax=50)\n",
    "axes[0].set_title('Rank-1 term 1\\n(col1 of A × row1 of B)')\n",
    "for i in range(2):\n",
    "    for j in range(2):\n",
    "        axes[0].text(j, i, f'{rank1_term1[i,j]:.0f}', \n",
    "                    ha='center', va='center', fontsize=14)\n",
    "\n",
    "# Second rank-1 term\n",
    "rank1_term2 = np.outer(A[:, 1], B[1, :])\n",
    "axes[1].imshow(rank1_term2, cmap='RdBu_r', vmin=-50, vmax=50)\n",
    "axes[1].set_title('Rank-1 term 2\\n(col2 of A × row2 of B)')\n",
    "for i in range(2):\n",
    "    for j in range(2):\n",
    "        axes[1].text(j, i, f'{rank1_term2[i,j]:.0f}', \n",
    "                    ha='center', va='center', fontsize=14)\n",
    "\n",
    "# Plus sign\n",
    "axes[2].text(0.5, 0.5, '+', fontsize=40, ha='center', va='center')\n",
    "axes[2].axis('off')\n",
    "\n",
    "# Final result\n",
    "axes[3].imshow(C_numpy, cmap='RdBu_r', vmin=-50, vmax=50)\n",
    "axes[3].set_title('Sum = AB')\n",
    "for i in range(2):\n",
    "    for j in range(2):\n",
    "        axes[3].text(j, i, f'{C_numpy[i,j]:.0f}', \n",
    "                    ha='center', va='center', fontsize=14)\n",
    "\n",
    "plt.tight_layout()\n",
    "plt.show()\n",
    "\n",
    "print(\"\\nRank-1 term 1:\")\n",
    "print(rank1_term1)\n",
    "print(\"\\nRank-1 term 2:\")\n",
    "print(rank1_term2)\n",
    "print(\"\\nSum:\")\n",
    "print(rank1_term1 + rank1_term2)"
   ]
  },
  {
   "cell_type": "markdown",
   "metadata": {},
   "source": [
    "## Exercise 2: Larger Matrix Example\n",
    "\n",
    "Test all four methods on a 3×3 matrix multiplication."
   ]
  },
  {
   "cell_type": "code",
   "execution_count": 12,
   "metadata": {},
   "outputs": [
    {
     "name": "stdout",
     "output_type": "stream",
     "text": [
      "Matrix A:\n",
      "[[1 2 3]\n",
      " [4 5 6]\n",
      " [7 8 9]]\n",
      "\n",
      "Matrix B:\n",
      "[[9 8 7]\n",
      " [6 5 4]\n",
      " [3 2 1]]\n",
      "\n",
      "Expected C = AB:\n",
      "[[ 30  24  18]\n",
      " [ 84  69  54]\n",
      " [138 114  90]]\n",
      "\n",
      "==================================================\n",
      "Testing all four perspectives:\n",
      "==================================================\n",
      "Element-wise   : ✓\n",
      "Column view    : ✓\n",
      "Row view       : ✓\n",
      "Rank-1 view    : ✓\n"
     ]
    }
   ],
   "source": [
    "# Define larger matrices\n",
    "A_large = np.array([[1, 2, 3],\n",
    "                    [4, 5, 6],\n",
    "                    [7, 8, 9]])\n",
    "\n",
    "B_large = np.array([[9, 8, 7],\n",
    "                    [6, 5, 4],\n",
    "                    [3, 2, 1]])\n",
    "\n",
    "print(\"Matrix A:\")\n",
    "print(A_large)\n",
    "print(\"\\nMatrix B:\")\n",
    "print(B_large)\n",
    "\n",
    "# Expected result\n",
    "C_expected = A_large @ B_large\n",
    "print(\"\\nExpected C = AB:\")\n",
    "print(C_expected)\n",
    "\n",
    "# Test all four methods\n",
    "print(\"\\n\" + \"=\"*50)\n",
    "print(\"Testing all four perspectives:\")\n",
    "print(\"=\"*50)\n",
    "\n",
    "methods = [\n",
    "    (\"Element-wise\", multiply_element_wise),\n",
    "    (\"Column view\", multiply_column_view),\n",
    "    (\"Row view\", multiply_row_view),\n",
    "    (\"Rank-1 view\", multiply_rank1_view)\n",
    "]\n",
    "\n",
    "for name, func in methods:\n",
    "    result = func(A_large, B_large)\n",
    "    matches = np.allclose(result, C_expected)\n",
    "    print(f\"{name:15s}: {'✓' if matches else '✗'}\")"
   ]
  },
  {
   "cell_type": "markdown",
   "metadata": {},
   "source": [
    "## Exercise 3: Matrix Inverse\n",
    "\n",
    "Find the inverse of:\n",
    "$$\n",
    "A = \\begin{bmatrix} 2 & 1 \\\\ 5 & 3 \\end{bmatrix}\n",
    "$$\n",
    "\n",
    "Using the formula for 2×2 matrices:\n",
    "$$\n",
    "A^{-1} = \\frac{1}{ad-bc} \\begin{bmatrix} d & -b \\\\ -c & a \\end{bmatrix}\n",
    "$$"
   ]
  },
  {
   "cell_type": "code",
   "execution_count": 13,
   "metadata": {},
   "outputs": [
    {
     "name": "stdout",
     "output_type": "stream",
     "text": [
      "Matrix A:\n",
      "[[2 1]\n",
      " [5 3]]\n",
      "\n",
      "Inverse A^-1:\n",
      "[[ 3. -1.]\n",
      " [-5.  2.]]\n",
      "\n",
      "Verification A @ A^-1:\n",
      "[[1.00000000e+00 0.00000000e+00]\n",
      " [1.77635684e-15 1.00000000e+00]]\n",
      "\n",
      "Is identity? True\n",
      "\n",
      "NumPy result:\n",
      "[[ 3. -1.]\n",
      " [-5.  2.]]\n"
     ]
    }
   ],
   "source": [
    "def inverse_2x2(A: np.ndarray) -> np.ndarray:\n",
    "    \"\"\"\n",
    "    Compute the inverse of a 2×2 matrix.\n",
    "    \n",
    "    Returns None if matrix is singular (det = 0).\n",
    "    \"\"\"\n",
    "    assert A.shape == (2, 2), \"Matrix must be 2×2\"\n",
    "    \n",
    "    # TODO: Extract elements a, b, c, d\n",
    "    # TODO: Compute determinant\n",
    "    # TODO: Check if determinant is zero\n",
    "    # TODO: Return inverse matrix\n",
    "    \n",
    "    # YOUR CODE HERE\n",
    "    if np.linalg.det(A)==0:\n",
    "        return None\n",
    "    else:\n",
    "        return np.linalg.inv(A)\n",
    "\n",
    "# Test matrix\n",
    "A_test = np.array([[2, 1],\n",
    "                   [5, 3]])\n",
    "\n",
    "print(\"Matrix A:\")\n",
    "print(A_test)\n",
    "\n",
    "# Compute inverse\n",
    "A_inv = inverse_2x2(A_test)\n",
    "\n",
    "if A_inv is not None:\n",
    "    print(\"\\nInverse A^-1:\")\n",
    "    print(A_inv)\n",
    "    \n",
    "    # Verify: A * A^-1 should equal I\n",
    "    identity = A_test @ A_inv\n",
    "    print(\"\\nVerification A @ A^-1:\")\n",
    "    print(identity)\n",
    "    \n",
    "    print(f\"\\nIs identity? {np.allclose(identity, np.eye(2))}\")\n",
    "    \n",
    "    # Compare with NumPy\n",
    "    print(\"\\nNumPy result:\")\n",
    "    print(np.linalg.inv(A_test))\n",
    "else:\n",
    "    print(\"\\nMatrix is singular (no inverse exists)\")"
   ]
  },
  {
   "cell_type": "markdown",
   "metadata": {},
   "source": [
    "## Exercise 4: Singular Matrix Example\n",
    "\n",
    "Verify that the matrix:\n",
    "$$\n",
    "A = \\begin{bmatrix} 1 & 2 \\\\ 2 & 4 \\end{bmatrix}\n",
    "$$\n",
    "\n",
    "has no inverse by:\n",
    "1. Computing its determinant\n",
    "2. Finding a non-zero vector $x$ such that $Ax = 0$\n",
    "3. Using the contradiction proof from lecture notes"
   ]
  },
  {
   "cell_type": "code",
   "execution_count": 14,
   "metadata": {},
   "outputs": [
    {
     "name": "stdout",
     "output_type": "stream",
     "text": [
      "Matrix A:\n",
      "[[1 2]\n",
      " [2 4]]\n",
      "\n",
      "Determinant: 0.0\n",
      "\n",
      "Test vector x = [ 2 -1]\n",
      "Ax = [0 0]\n",
      "Is Ax = 0? True\n",
      "\n",
      "✓ Matrix is singular - no inverse exists!\n",
      "\n",
      "==================================================\n",
      "Column dependency:\n",
      "==================================================\n",
      "Column 1: [1 2]\n",
      "Column 2: [2 4]\n",
      "Column 2 = 2 × Column 1? True\n"
     ]
    }
   ],
   "source": [
    "# Singular matrix\n",
    "A_singular = np.array([[1, 2],\n",
    "                       [2, 4]])\n",
    "\n",
    "print(\"Matrix A:\")\n",
    "print(A_singular)\n",
    "\n",
    "# 1. Compute determinant\n",
    "det = np.linalg.det(A_singular)\n",
    "print(f\"\\nDeterminant: {det}\")\n",
    "\n",
    "# 2. Find non-zero x such that Ax = 0\n",
    "x = np.array([2, -1])\n",
    "result = A_singular @ x\n",
    "\n",
    "print(f\"\\nTest vector x = {x}\")\n",
    "print(f\"Ax = {result}\")\n",
    "print(f\"Is Ax = 0? {np.allclose(result, 0)}\")\n",
    "\n",
    "# 3. Try to compute inverse (should fail)\n",
    "try:\n",
    "    A_inv = np.linalg.inv(A_singular)\n",
    "    print(\"\\nInverse computed (unexpected!)\")\n",
    "except np.linalg.LinAlgError:\n",
    "    print(\"\\n✓ Matrix is singular - no inverse exists!\")\n",
    "\n",
    "# Visualize column dependency\n",
    "print(\"\\n\" + \"=\"*50)\n",
    "print(\"Column dependency:\")\n",
    "print(\"=\"*50)\n",
    "print(f\"Column 1: {A_singular[:, 0]}\")\n",
    "print(f\"Column 2: {A_singular[:, 1]}\")\n",
    "print(f\"Column 2 = 2 × Column 1? {np.allclose(A_singular[:, 1], 2 * A_singular[:, 0])}\")"
   ]
  },
  {
   "cell_type": "markdown",
   "metadata": {},
   "source": [
    "## Summary\n",
    "\n",
    "You've now practiced:\n",
    "\n",
    "1. **Four perspectives of matrix multiplication:**\n",
    "   - Element-by-element (most computational)\n",
    "   - Column view (understanding linear combinations)\n",
    "   - Row view (dual of column view)\n",
    "   - Rank-1 view (most insightful for theory)\n",
    "\n",
    "2. **Matrix inverse:**\n",
    "   - Computing 2×2 inverse using formula\n",
    "   - Verifying inverse property: $AA^{-1} = I$\n",
    "   - Understanding singular matrices\n",
    "\n",
    "3. **Key insights:**\n",
    "   - All four methods give the same result\n",
    "   - Rank-1 decomposition shows deep structure\n",
    "   - Singular matrices have dependent columns and no inverse"
   ]
  }
 ],
 "metadata": {
  "kernelspec": {
   "display_name": "research",
   "language": "python",
   "name": "python3"
  },
  "language_info": {
   "codemirror_mode": {
    "name": "ipython",
    "version": 3
   },
   "file_extension": ".py",
   "mimetype": "text/x-python",
   "name": "python",
   "nbconvert_exporter": "python",
   "pygments_lexer": "ipython3",
   "version": "3.12.3"
  }
 },
 "nbformat": 4,
 "nbformat_minor": 4
}
