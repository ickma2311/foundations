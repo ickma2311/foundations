{
 "cells": [
  {
   "cell_type": "markdown",
   "metadata": {},
   "source": [
    "# Lecture 4 Exercises: LU Decomposition\n",
    "\n",
    "Hands-on practice with **A = LU** factorization."
   ]
  },
  {
   "cell_type": "code",
   "execution_count": null,
   "metadata": {},
   "outputs": [],
   "source": [
    "import numpy as np\n",
    "\n",
    "print(\"✓ Libraries imported successfully\")"
   ]
  },
  {
   "cell_type": "markdown",
   "metadata": {},
   "source": [
    "---\n",
    "\n",
    "## Exercise 1: Manual LU Decomposition (2×2)\n",
    "\n",
    "Compute the LU decomposition of $A = \\begin{bmatrix} 2 & 3 \\\\ 4 & 7 \\end{bmatrix}$ by hand.\n",
    "\n",
    "**Steps:**\n",
    "1. Perform elimination to get $U$\n",
    "2. Record the multiplier $m_{21}$ to build $L$\n",
    "3. Verify $A = LU$"
   ]
  },
  {
   "cell_type": "code",
   "execution_count": 14,
   "metadata": {},
   "outputs": [
    {
     "name": "stdout",
     "output_type": "stream",
     "text": [
      "Original matrix A:\n",
      "[[2 3]\n",
      " [4 7]]\n",
      "\n",
      "Multiplier m21 = 2.0\n",
      "\n",
      "L matrix:\n",
      "[[1. 0.]\n",
      " [2. 1.]]\n",
      "\n",
      "U matrix:\n",
      "[[2 3]\n",
      " [0 1]]\n",
      "\n",
      "Verification - LU:\n",
      "[[2. 3.]\n",
      " [4. 7.]]\n",
      "\n",
      "A = LU? True\n"
     ]
    }
   ],
   "source": [
    "# Original matrix\n",
    "A = np.array([[2, 3],\n",
    "              [4, 7]])\n",
    "\n",
    "print(\"Original matrix A:\")\n",
    "print(A)\n",
    "print()\n",
    "\n",
    "# TODO: Compute multiplier m21\n",
    "m21 = 4/2  # Fill this in\n",
    "\n",
    "# TODO: Build L matrix\n",
    "L = np.array([[1, 0],\n",
    "              [m21, 1]])  # Fill this in\n",
    "\n",
    "# TODO: Build U matrix (result after elimination)\n",
    "U = np.array([[2, 3],\n",
    "              [0, 1]])  # Fill this in\n",
    "\n",
    "print(f\"Multiplier m21 = {m21}\")\n",
    "print(f\"\\nL matrix:\\n{L}\")\n",
    "print(f\"\\nU matrix:\\n{U}\")\n",
    "print(f\"\\nVerification - LU:\\n{L @ U}\")\n",
    "print(f\"\\nA = LU? {np.allclose(A, L @ U)}\")"
   ]
  },
  {
   "cell_type": "markdown",
   "metadata": {},
   "source": [
    "### Solution"
   ]
  },
  {
   "cell_type": "code",
   "execution_count": 15,
   "metadata": {},
   "outputs": [
    {
     "name": "stdout",
     "output_type": "stream",
     "text": [
      "L =\n",
      "[[1. 0.]\n",
      " [2. 1.]]\n",
      "\n",
      "U =\n",
      "[[2 3]\n",
      " [0 1]]\n",
      "\n",
      "LU =\n",
      "[[2. 3.]\n",
      " [4. 7.]]\n",
      "\n",
      "Verified: True\n"
     ]
    }
   ],
   "source": [
    "# Solution\n",
    "m21 = 4 / 2  # = 2\n",
    "\n",
    "L = np.array([[1, 0],\n",
    "              [m21, 1]])\n",
    "\n",
    "# After eliminating: row2 - 2*row1\n",
    "# [2, 3]        [2, 3]\n",
    "# [4, 7]  -->   [0, 1]  (7 - 2*3 = 1)\n",
    "U = np.array([[2, 3],\n",
    "              [0, 1]])\n",
    "\n",
    "print(f\"L =\\n{L}\")\n",
    "print(f\"\\nU =\\n{U}\")\n",
    "print(f\"\\nLU =\\n{L @ U}\")\n",
    "print(f\"\\nVerified: {np.allclose(A, L @ U)}\")"
   ]
  },
  {
   "cell_type": "markdown",
   "metadata": {},
   "source": [
    "---\n",
    "\n",
    "## Exercise 2: LU Decomposition (3×3)\n",
    "\n",
    "Perform LU decomposition on:\n",
    "\n",
    "$$\n",
    "A = \\begin{bmatrix} 2 & 1 & 1 \\\\ 4 & -6 & 0 \\\\ -2 & 7 & 2 \\end{bmatrix}\n",
    "$$\n",
    "\n",
    "**Goal:** Find $L$ and $U$ such that $A = LU$"
   ]
  },
  {
   "cell_type": "code",
   "execution_count": 16,
   "metadata": {},
   "outputs": [
    {
     "name": "stdout",
     "output_type": "stream",
     "text": [
      "Original A:\n",
      "[[ 2  1  1]\n",
      " [ 4 -6  0]\n",
      " [-2  7  2]]\n",
      "\n",
      "Step 1: Eliminate column 1\n",
      "----------------------------------------\n",
      "m21 = 2.0\n",
      "m31 = -1.0\n",
      "\n",
      "After eliminating column 1:\n",
      "[[ 2.  1.  1.]\n",
      " [ 0. -8. -2.]\n",
      " [ 0.  8.  3.]]\n",
      "\n",
      "Step 2: Eliminate column 2\n",
      "----------------------------------------\n",
      "m32 = -1.0\n",
      "\n",
      "U (upper triangular):\n",
      "[[ 2.  1.  1.]\n",
      " [ 0. -8. -2.]\n",
      " [ 0.  0.  1.]]\n",
      "\n",
      "L (lower triangular):\n",
      "[[ 1.  0.  0.]\n",
      " [ 2.  1.  0.]\n",
      " [-1. -1.  1.]]\n",
      "\n",
      "LU =\n",
      "[[ 2.  1.  1.]\n",
      " [ 4. -6.  0.]\n",
      " [-2.  7.  2.]]\n",
      "\n",
      "A = LU? True\n"
     ]
    }
   ],
   "source": [
    "A = np.array([[2, 1, 1],\n",
    "              [4, -6, 0],\n",
    "              [-2, 7, 2]])\n",
    "\n",
    "print(\"Original A:\")\n",
    "print(A)\n",
    "print()\n",
    "\n",
    "# Manual elimination step-by-step\n",
    "print(\"Step 1: Eliminate column 1\")\n",
    "print(\"-\" * 40)\n",
    "\n",
    "# TODO: Calculate multipliers\n",
    "m21 = 4/2  # Multiplier for row 2\n",
    "m31 = -2/2  # Multiplier for row 3\n",
    "\n",
    "print(f\"m21 = {m21}\")\n",
    "print(f\"m31 = {m31}\")\n",
    "\n",
    "# TODO: Create A1 after first elimination\n",
    "A1 = A.copy().astype(float)\n",
    "A1[1] = A1[1] - m21 * A1[0]  # Update row 2\n",
    "A1[2] = A1[2] - m31 * A1[0]  # Update row 3\n",
    "\n",
    "print(f\"\\nAfter eliminating column 1:\\n{A1}\")\n",
    "print()\n",
    "\n",
    "print(\"Step 2: Eliminate column 2\")\n",
    "print(\"-\" * 40)\n",
    "\n",
    "# TODO: Calculate multiplier\n",
    "m32 = 8/-8  # Multiplier for row 3\n",
    "\n",
    "print(f\"m32 = {m32}\")\n",
    "\n",
    "# TODO: Create U (final upper triangular)\n",
    "U = A1.copy()\n",
    "U[2] = U[2] - m32 * U[1]  # Update row 3\n",
    "\n",
    "print(f\"\\nU (upper triangular):\\n{U}\")\n",
    "print()\n",
    "\n",
    "# TODO: Build L from multipliers\n",
    "L = np.array([[1, 0, 0],\n",
    "              [m21, 1, 0],\n",
    "              [m31, m32, 1]])\n",
    "\n",
    "print(f\"L (lower triangular):\\n{L}\")\n",
    "print()\n",
    "\n",
    "# Verify\n",
    "print(f\"LU =\\n{L @ U}\")\n",
    "print(f\"\\nA = LU? {np.allclose(A, L @ U)}\")"
   ]
  },
  {
   "cell_type": "markdown",
   "metadata": {},
   "source": [
    "### Solution"
   ]
  },
  {
   "cell_type": "code",
   "execution_count": 17,
   "metadata": {},
   "outputs": [
    {
     "name": "stdout",
     "output_type": "stream",
     "text": [
      "Step-by-step elimination:\n",
      "\n",
      "m21 = 2.0, m31 = -1.0\n",
      "After step 1:\n",
      "[[ 2.  1.  1.]\n",
      " [ 0. -8. -2.]\n",
      " [ 0.  8.  3.]]\n",
      "\n",
      "m32 = -1.0\n",
      "U (final):\n",
      "[[ 2.  1.  1.]\n",
      " [ 0. -8. -2.]\n",
      " [ 0.  0.  1.]]\n",
      "\n",
      "L:\n",
      "[[ 1.  0.  0.]\n",
      " [ 2.  1.  0.]\n",
      " [-1. -1.  1.]]\n",
      "\n",
      "Verification: LU =\n",
      "[[ 2.  1.  1.]\n",
      " [ 4. -6.  0.]\n",
      " [-2.  7.  2.]]\n",
      "\n",
      "A = LU? True\n"
     ]
    }
   ],
   "source": [
    "# Solution\n",
    "A = np.array([[2, 1, 1],\n",
    "              [4, -6, 0],\n",
    "              [-2, 7, 2]], dtype=float)\n",
    "\n",
    "print(\"Step-by-step elimination:\\n\")\n",
    "\n",
    "# Step 1: Eliminate column 1\n",
    "m21 = A[1, 0] / A[0, 0]  # 4/2 = 2\n",
    "m31 = A[2, 0] / A[0, 0]  # -2/2 = -1\n",
    "\n",
    "A1 = A.copy()\n",
    "A1[1] = A1[1] - m21 * A1[0]  # row2 - 2*row1\n",
    "A1[2] = A1[2] - m31 * A1[0]  # row3 - (-1)*row1\n",
    "\n",
    "print(f\"m21 = {m21}, m31 = {m31}\")\n",
    "print(f\"After step 1:\\n{A1}\\n\")\n",
    "\n",
    "# Step 2: Eliminate column 2\n",
    "m32 = A1[2, 1] / A1[1, 1]  # 8/(-8) = -1\n",
    "\n",
    "U = A1.copy()\n",
    "U[2] = U[2] - m32 * U[1]  # row3 - (-1)*row2\n",
    "\n",
    "print(f\"m32 = {m32}\")\n",
    "print(f\"U (final):\\n{U}\\n\")\n",
    "\n",
    "# Build L\n",
    "L = np.array([[1, 0, 0],\n",
    "              [m21, 1, 0],\n",
    "              [m31, m32, 1]])\n",
    "\n",
    "print(f\"L:\\n{L}\\n\")\n",
    "print(f\"Verification: LU =\\n{L @ U}\")\n",
    "print(f\"\\nA = LU? {np.allclose(A, L @ U)}\")"
   ]
  },
  {
   "cell_type": "markdown",
   "metadata": {},
   "source": [
    "---\n",
    "\n",
    "## Summary\n",
    "\n",
    "### What You Practiced\n",
    "\n",
    "1. ✅ **Manual LU decomposition** for 2×2 and 3×3 matrices\n",
    "2. ✅ **Recording multipliers** to build $L$\n",
    "3. ✅ **Verification** that $A = LU$\n",
    "\n",
    "### Key Formulas\n",
    "\n",
    "- **LU decomposition:** $A = LU$\n",
    "- **Multiplier:** $m_{ij} = \\frac{A_{ij}}{\\text{pivot at } (j,j)}$\n",
    "- **L structure:** Multipliers fill in below the diagonal, 1's on diagonal\n",
    "- **U structure:** Result of elimination (upper triangular)\n",
    "\n",
    "**Next:** Practice with more advanced topics in later lectures!"
   ]
  }
 ],
 "metadata": {
  "kernelspec": {
   "display_name": "Python 3",
   "language": "python",
   "name": "python3"
  },
  "language_info": {
   "codemirror_mode": {
    "name": "ipython",
    "version": 3
   },
   "file_extension": ".py",
   "mimetype": "text/x-python",
   "name": "python",
   "nbconvert_exporter": "python",
   "pygments_lexer": "ipython3",
   "version": "3.8.0"
  }
 },
 "nbformat": 4,
 "nbformat_minor": 4
}
