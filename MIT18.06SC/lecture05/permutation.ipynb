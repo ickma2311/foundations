{
 "cells": [
  {
   "cell_type": "code",
   "execution_count": 11,
   "id": "ac5e5287",
   "metadata": {},
   "outputs": [],
   "source": [
    "# Permutation"
   ]
  },
  {
   "cell_type": "markdown",
   "id": "953171ce",
   "metadata": {},
   "source": "## Definition\n\nA matrix is a **permutation matrix** if:\n- Each row has exactly one 1, all other entries are 0\n- Each column has exactly one 1, all other entries are 0"
  },
  {
   "cell_type": "code",
   "execution_count": null,
   "id": "496d965d",
   "metadata": {},
   "outputs": [],
   "source": "import numpy as np\n\n# Create a random 3x4 matrix\nA = np.random.randint(0, 10, (3, 4))\nprint(\"Matrix A:\")\nprint(A)\n\n# Create a permutation matrix that swaps rows 0 and 1\nP = np.zeros((3, 3)).astype(int)\nP[0, 1] = 1\nP[1, 0] = 1\nP[2, 2] = 1\nprint(\"\\nPermutation matrix P:\")\nprint(P)\n\n# Apply permutation: PA swaps rows 0 and 1 of A\nprint(\"\\nP @ A (rows 0 and 1 swapped):\")\nprint(P @ A)"
  },
  {
   "cell_type": "markdown",
   "id": "08dddf54",
   "metadata": {},
   "source": "## Number of Permutation Matrices\n\nA matrix with **n rows** has **n! permutation matrices**\n\nFor example:\n- n=3: 3! = 6 permutation matrices\n- n=4: 4! = 24 permutation matrices"
  },
  {
   "cell_type": "code",
   "execution_count": null,
   "id": "e7cdf775",
   "metadata": {},
   "outputs": [],
   "source": "from itertools import permutations\n\n# Generate all permutations for n=3\nn = 3\nperms = list(permutations(range(n)))\nprint(f\"There are {len(perms)} permutation matrices for n={n}\")"
  },
  {
   "cell_type": "code",
   "execution_count": null,
   "id": "ea0d791d",
   "metadata": {},
   "outputs": [],
   "source": "# Display all permutation matrices and their effect on A\nfor perm in perms:\n    print(f\"Permutation: {perm}\")\n    P = np.zeros((n, n)).astype(int)\n    P[np.arange(n), perm] = 1\n    print(\"Permutation matrix P:\")\n    print(P)\n    print(\"P @ A:\")\n    print(P @ A)\n    print()"
  },
  {
   "cell_type": "markdown",
   "id": "831eb098",
   "metadata": {},
   "source": "# Properties of Permutation Matrices"
  },
  {
   "cell_type": "markdown",
   "id": "2dfe4f54",
   "metadata": {},
   "source": "**Key Properties:**\n\n1. $P^{-1} = P^T$ (inverse equals transpose)\n2. $PP^T = P^TP = I$ (orthogonal matrix)\n3. $\\det(P) = \\pm 1$ (determinant is ±1)"
  },
  {
   "cell_type": "markdown",
   "id": "1e5edcef",
   "metadata": {},
   "source": "## Proof Strategy\n\nGiven that $PP^{-1} = I$ by definition of inverse,  \nWe only need to prove that $PP^T = I$  \nThen we can conclude that $P^{-1} = P^T$"
  },
  {
   "cell_type": "markdown",
   "id": "94e11bd3",
   "metadata": {},
   "source": "## Proof: $PP^T = I$"
  },
  {
   "cell_type": "code",
   "execution_count": null,
   "id": "9c96e2ce",
   "metadata": {},
   "outputs": [],
   "source": "import numpy as np\n\n# Example permutation matrix (swaps rows 0 and 1)\nP = np.array([[0, 1, 0], \n              [1, 0, 0], \n              [0, 0, 1]])\n\n# Compute transpose\nP_T = P.T\n\n# Verify PP^T = I\nresult = P @ P_T\nprint(\"P @ P^T =\")\nprint(result)"
  },
  {
   "cell_type": "markdown",
   "id": "eab58c13",
   "metadata": {},
   "source": "**Result:** Identity matrix $I$\n\n**Explanation:**\n\nThe $n$-th column of $P^T$ is the $n$-th row of $P$.\n\nWhen computing $PP^T$:\n- The $(i,j)$ entry of $PP^T$ is the dot product of row $i$ of $P$ with column $j$ of $P^T$\n- This equals the dot product of row $i$ of $P$ with row $j$ of $P$\n- When $i = j$: dot product of a row with itself = 1 (each row has exactly one 1)\n- When $i \\neq j$: dot product of different rows = 0 (the 1's are in different positions)\n\nTherefore, $PP^T = I$"
  },
  {
   "cell_type": "code",
   "execution_count": null,
   "id": "635f2e28",
   "metadata": {},
   "outputs": [],
   "source": "# Verify by computing each row of P times P^T\nprint(\"Row 0 of P times P^T:\", P[0] @ P_T)\nprint(\"Row 1 of P times P^T:\", P[1] @ P_T)\nprint(\"Row 2 of P times P^T:\", P[2] @ P_T)\nprint(\"\\nEach row gives one row of the identity matrix!\")"
  },
  {
   "cell_type": "markdown",
   "id": "e8dd2e11",
   "metadata": {},
   "source": "## Conclusion: $P^{-1} = P^T$\n\n**Proof:**\n$$\n\\begin{align}\nPP^T &= I \\quad \\text{(proved above)} \\\\\nPP^{-1} &= I \\quad \\text{(definition of inverse)} \\\\\n\\therefore P^{-1} &= P^T\n\\end{align}\n$$\n\nThis is a remarkable property: **the inverse of a permutation matrix equals its transpose!**"
  },
  {
   "cell_type": "markdown",
   "id": "f6266d52",
   "metadata": {},
   "source": "## Proof: $\\det(P) = \\pm 1$"
  },
  {
   "cell_type": "markdown",
   "id": "3bf50900",
   "metadata": {},
   "source": "**Properties of Determinants** (used in the proof):\n1. $\\det(AB) = \\det(A)\\det(B)$ (product property)\n2. $\\det(A^T) = \\det(A)$ (transpose property)"
  },
  {
   "cell_type": "markdown",
   "id": "e0735a34",
   "metadata": {},
   "source": "**Proof:**\n$$\n\\begin{align}\n\\det(PP^T) &= \\det(I) = 1 \\\\\n\\det(PP^T) &= \\det(P)\\det(P^T) \\\\\n&= \\det(P)\\det(P) \\\\\n&= \\det(P)^2 \\\\\n\\therefore \\det(P)^2 &= 1 \\\\\n\\det(P) &= \\pm 1\n\\end{align}\n$$\n\n**Interpretation:**\n- $\\det(P) = +1$: even permutation (even number of row swaps)\n- $\\det(P) = -1$: odd permutation (odd number of row swaps)"
  }
 ],
 "metadata": {
  "kernelspec": {
   "display_name": "research",
   "language": "python",
   "name": "python3"
  },
  "language_info": {
   "codemirror_mode": {
    "name": "ipython",
    "version": 3
   },
   "file_extension": ".py",
   "mimetype": "text/x-python",
   "name": "python",
   "nbconvert_exporter": "python",
   "pygments_lexer": "ipython3",
   "version": "3.12.3"
  }
 },
 "nbformat": 4,
 "nbformat_minor": 5
}