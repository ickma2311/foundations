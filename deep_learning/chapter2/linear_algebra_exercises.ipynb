{
 "cells": [
  {
   "cell_type": "markdown",
   "metadata": {},
   "source": [
    "# 📘 NumPy Linear Algebra — Exercises\n",
    "\n",
    "**Prerequisites**: Read `linear_algebra_theory.md` for key concepts.\n",
    "\n",
    "These exercises help you practice linear algebra operations essential for deep learning using NumPy."
   ]
  },
  {
   "cell_type": "code",
   "execution_count": null,
   "metadata": {},
   "outputs": [],
   "source": [
    "import numpy as np\n",
    "from matplotlib import pyplot as plt\n",
    "# All exercises below assume NumPy has been imported as np."
   ]
  },
  {
   "cell_type": "markdown",
   "metadata": {},
   "source": [
    "## Exercise 1: Norms (Vector and Matrix)\n",
    "\n",
    "**Exercise**: Given $A = \\begin{bmatrix}1 & -2 \\\\ 3 & 4\\end{bmatrix}$ and vector $v = [3, -4, 12]$:\n",
    "- Compute the Frobenius norm of $A$\n",
    "- Compute the L2 norm of vector $v$"
   ]
  },
  {
   "cell_type": "code",
   "execution_count": null,
   "metadata": {},
   "outputs": [],
   "source": [
    "A = np.array([[1, -2], [3, 4]], dtype=float)\n",
    "vector_v = np.array([3, -4, 12], dtype=float)\n",
    "\n",
    "# Use np.linalg.norm to compute the requested norms\n",
    "print(\"Frobenius norm of A:\", np.linalg.norm(A, 'fro'))  # or just np.linalg.norm(A)\n",
    "print(\"L2 norm of vector v:\", np.linalg.norm(vector_v))\n",
    "\n",
    "# Additional examples of different norms:\n",
    "print(\"\\n--- Matrix A norms ---\")\n",
    "print(\"L1 norm of A:\", np.linalg.norm(A, ord=1))\n",
    "print(\"L2 norm of A:\", np.linalg.norm(A, ord=2))\n",
    "print(\"∞ norm of A:\", np.linalg.norm(A, ord=np.inf))\n",
    "\n",
    "print(\"\\n--- Vector v norms ---\")  \n",
    "print(\"L1 norm of v:\", np.linalg.norm(vector_v, ord=1))\n",
    "print(\"∞ norm of v:\", np.linalg.norm(vector_v, ord=np.inf))"
   ]
  },
  {
   "cell_type": "markdown",
   "metadata": {},
   "source": [
    "## Exercise 2: Determinant\n",
    "\n",
    "**Exercise**: Compute $\\det(B)$ for $B = \\begin{bmatrix}2 & 1 \\\\ 5 & 3\\end{bmatrix}$ and determine if $B$ is invertible."
   ]
  },
  {
   "cell_type": "code",
   "execution_count": null,
   "metadata": {},
   "outputs": [],
   "source": [
    "B = np.array([[2, 1], [5, 3]], dtype=float)\n",
    "\n",
    "# Compute np.linalg.det(B) and interpret the result\n",
    "det_B = np.linalg.det(B)\n",
    "print(f\"det(B) = {det_B}\")\n",
    "\n",
    "# Manual calculation: 2*3 - 1*5 = 6 - 5 = 1\n",
    "print(f\"Manual calculation: 2*3 - 1*5 = {2*3 - 1*5}\")\n",
    "\n",
    "# Invertibility check\n",
    "if det_B != 0:\n",
    "    print(\"B is invertible (det ≠ 0)\")\n",
    "else:\n",
    "    print(\"B is singular (det = 0)\")"
   ]
  },
  {
   "cell_type": "markdown",
   "metadata": {},
   "source": [
    "## Exercise 3: Matrix Inverse\n",
    "\n",
    "**Exercise**: Find inverse of $C = \\begin{bmatrix}4 & 7 \\\\ 2 & 6\\end{bmatrix}$ and verify $C \\cdot C^{-1} = I$."
   ]
  },
  {
   "cell_type": "code",
   "execution_count": null,
   "metadata": {},
   "outputs": [],
   "source": [
    "C = np.array([[4, 7], [2, 6]], dtype=float)\n",
    "\n",
    "# Compute C_inv = np.linalg.inv(C) and verify that C @ C_inv gives identity\n",
    "C_inv = np.linalg.inv(C)\n",
    "print(\"C_inv:\\n\", C_inv)\n",
    "\n",
    "# Verify C @ C_inv = I\n",
    "product = C @ C_inv\n",
    "print(\"\\nC @ C_inv:\\n\", product)\n",
    "\n",
    "# Check if close to identity (accounting for floating point errors)\n",
    "identity_check = np.allclose(product, np.eye(2))\n",
    "print(f\"\\nIs C @ C_inv ≈ I? {identity_check}\")\n",
    "\n",
    "# Manual calculation for 2x2 inverse\n",
    "det_C = np.linalg.det(C)\n",
    "print(f\"\\ndet(C) = {det_C}\")\n",
    "print(f\"Manual inverse: 1/{det_C} * [[6, -7], [-2, 4]]\")"
   ]
  },
  {
   "cell_type": "markdown",
   "metadata": {},
   "source": [
    "## Exercise 4: Solve Linear System\n",
    "\n",
    "**Exercise**: Solve the system:\n",
    "$$\\begin{cases} 2x + y = 5 \\\\ 4x - 6y = -2 \\end{cases}$$"
   ]
  },
  {
   "cell_type": "code",
   "execution_count": null,
   "metadata": {},
   "outputs": [],
   "source": [
    "A_system = np.array([[2, 1], [4, -6]], dtype=float)\n",
    "b_system = np.array([5, -2], dtype=float)\n",
    "\n",
    "# Solve for the vector x that satisfies A_system @ x = b_system\n",
    "x_solution = np.linalg.solve(A_system, b_system)\n",
    "print(\"Solution x =\", x_solution)\n",
    "\n",
    "# Verify the solution\n",
    "verification = A_system @ x_solution\n",
    "print(\"Verification A @ x =\", verification)\n",
    "print(\"Original b =\", b_system)\n",
    "print(\"Match?\", np.allclose(verification, b_system))\n",
    "\n",
    "# Alternative: using matrix inverse (less efficient)\n",
    "x_inverse = np.linalg.inv(A_system) @ b_system\n",
    "print(\"\\nUsing inverse: x =\", x_inverse)\n",
    "print(\"Same result?\", np.allclose(x_solution, x_inverse))"
   ]
  },
  {
   "cell_type": "markdown",
   "metadata": {},
   "source": [
    "## Exercise 5: Eigenvalues and Eigenvectors\n",
    "\n",
    "**Exercise**: Find eigenvalues and eigenvectors of $D = \\begin{bmatrix}1 & 2 \\\\ 2 & 1\\end{bmatrix}$."
   ]
  },
  {
   "cell_type": "code",
   "execution_count": null,
   "metadata": {},
   "outputs": [],
   "source": [
    "D = np.array([[1, 2], [2, 1]], dtype=float)\n",
    "\n",
    "# Use np.linalg.eig(D) to obtain eigenvalues and eigenvectors\n",
    "eigvals, eigvecs = np.linalg.eig(D)\n",
    "print(\"Eigenvalues:\", eigvals)\n",
    "print(\"Eigenvectors:\\n\", eigvecs)\n",
    "\n",
    "# Verify: A @ v = λ @ v for each eigenvalue/eigenvector pair\n",
    "print(\"\\n--- Verification ---\")\n",
    "for i in range(len(eigvals)):\n",
    "    λ = eigvals[i]\n",
    "    v = eigvecs[:, i]  # i-th column is i-th eigenvector\n",
    "    \n",
    "    Av = D @ v\n",
    "    λv = λ * v\n",
    "    \n",
    "    print(f\"λ{i+1} = {λ:.3f}\")\n",
    "    print(f\"A @ v{i+1} = {Av}\")\n",
    "    print(f\"λ{i+1} * v{i+1} = {λv}\")\n",
    "    print(f\"Match? {np.allclose(Av, λv)}\\n\")\n",
    "\n",
    "# Check properties: trace and determinant\n",
    "print(f\"trace(D) = {np.trace(D)}, sum(eigenvalues) = {np.sum(eigvals)}\")\n",
    "print(f\"det(D) = {np.linalg.det(D)}, product(eigenvalues) = {np.prod(eigvals)}\")"
   ]
  },
  {
   "cell_type": "markdown",
   "metadata": {},
   "source": [
    "## Exercise 6: Singular Value Decomposition\n",
    "\n",
    "**Exercise:** Perform SVD on\n",
    "$$\n",
    "E = \\begin{bmatrix}3 & 1 \\\\ 1 & 3\\end{bmatrix}\n",
    "$$\n",
    "and verify $E = U \\Sigma V^T$."
   ]
  },
  {
   "cell_type": "code",
   "execution_count": null,
   "metadata": {},
   "outputs": [],
   "source": [
    "E = np.array([[3, 1], [1, 3]], dtype=float)\n",
    "\n",
    "# Compute U, S, Vt = np.linalg.svd(E) and verify the reconstruction\n",
    "U, S, Vt = np.linalg.svd(E)\n",
    "print(\"U (left singular vectors):\\n\", U)\n",
    "print(\"\\nS (singular values):\", S)\n",
    "print(\"\\nVt (right singular vectors transposed):\\n\", Vt)\n",
    "\n",
    "# Verify reconstruction: E = U @ diag(S) @ Vt\n",
    "E_reconstructed = U @ np.diag(S) @ Vt\n",
    "print(\"\\nOriginal E:\\n\", E)\n",
    "print(\"\\nReconstructed E:\\n\", E_reconstructed)\n",
    "print(\"\\nReconstruction accurate?\", np.allclose(E, E_reconstructed))"
   ]
  },
  {
   "cell_type": "markdown",
   "metadata": {},
   "source": [
    "## Exercise 7: Matrix Rank\n",
    "\n",
    "**Exercise:** Find the rank of\n",
    "$$\n",
    "F = \\begin{bmatrix}\n",
    "1 & 2 & 3 \\\\\n",
    "2 & 4 & 6 \\\\\n",
    "3 & 6 & 9\n",
    "\\end{bmatrix}\n",
    "$$\n",
    "and explain the result."
   ]
  },
  {
   "cell_type": "code",
   "execution_count": null,
   "metadata": {},
   "outputs": [],
   "source": [
    "F = np.array([[1, 2, 3], [2, 4, 6], [3, 6, 9]], dtype=float)\n",
    "\n",
    "# Evaluate np.linalg.matrix_rank(F) and discuss why the rank has that value\n",
    "rank_F = np.linalg.matrix_rank(F)\n",
    "print(f\"Matrix F:\\n{F}\")\n",
    "print(f\"\\nRank of F: {rank_F}\")\n",
    "\n",
    "# Verify linear dependence\n",
    "print(f\"\\nVerification:\")\n",
    "print(f\"2 * row[0] = {2 * F[0]}\")\n",
    "print(f\"row[1] = {F[1]}\")\n",
    "print(f\"Are they equal? {np.allclose(2 * F[0], F[1])}\")\n",
    "\n",
    "print(f\"\\n3 * row[0] = {3 * F[0]}\")\n",
    "print(f\"row[2] = {F[2]}\")\n",
    "print(f\"Are they equal? {np.allclose(3 * F[0], F[2])}\")"
   ]
  },
  {
   "cell_type": "markdown",
   "metadata": {},
   "source": [
    "## Exercise 8: Pseudoinverse\n",
    "\n",
    "**Exercise:**\n",
    "For\n",
    "$$\n",
    "G = \\begin{bmatrix}1 & 2 \\\\ 3 & 4 \\\\ 5 & 6\\end{bmatrix}\n",
    "$$\n",
    "compute the pseudoinverse and use it to solve the least squares problem $Gx \\approx [7, 8, 9]^T$."
   ]
  },
  {
   "cell_type": "code",
   "execution_count": null,
   "metadata": {},
   "outputs": [],
   "source": [
    "G = np.array([[1, 2], [3, 4], [5, 6]], dtype=float)\n",
    "b_ls = np.array([7, 8, 9], dtype=float)\n",
    "\n",
    "# Compute the Moore–Penrose pseudoinverse of G and obtain the least-squares solution\n",
    "G_pinv = np.linalg.pinv(G)\n",
    "x_ls = G_pinv @ b_ls\n",
    "\n",
    "print(\"Matrix G:\\n\", G)\n",
    "print(\"\\nPseudoinverse G+:\\n\", G_pinv)\n",
    "print(\"\\nLeast-squares solution x:\", x_ls)\n",
    "\n",
    "# Verify: G @ x should be as close to b as possible\n",
    "Gx = G @ x_ls\n",
    "print(f\"\\nG @ x = {Gx}\")\n",
    "print(f\"Original b = {b_ls}\")\n",
    "print(f\"Residual ||Gx - b|| = {np.linalg.norm(Gx - b_ls):.6f}\")"
   ]
  },
  {
   "cell_type": "markdown",
   "metadata": {},
   "source": [
    "## Exercise 9: QR Decomposition\n",
    "\n",
    "**Exercise:** Perform QR decomposition and use it to solve a linear system."
   ]
  },
  {
   "cell_type": "code",
   "execution_count": null,
   "metadata": {},
   "outputs": [],
   "source": [
    "H = np.array([[1, 1], [1, -1]], dtype=float)\n",
    "b_qr = np.array([2, 0], dtype=float)\n",
    "\n",
    "# Compute the QR decomposition of H and use it to solve H @ x = b_qr\n",
    "Q, R = np.linalg.qr(H)\n",
    "\n",
    "print(\"Matrix H:\\n\", H)\n",
    "print(\"\\nQ (orthogonal matrix):\\n\", Q)\n",
    "print(\"\\nR (upper triangular matrix):\\n\", R)\n",
    "\n",
    "# Verify QR decomposition: H = Q @ R\n",
    "print(f\"\\nVerification: H = Q @ R\")\n",
    "print(f\"Q @ R =\\n{Q @ R}\")\n",
    "print(f\"Reconstruction accurate? {np.allclose(H, Q @ R)}\")\n",
    "\n",
    "# Solve using QR: H @ x = b => Q @ R @ x = b => R @ x = Q^T @ b\n",
    "x_qr = np.linalg.solve(R, Q.T @ b_qr)\n",
    "print(f\"\\nSolution x = {x_qr}\")\n",
    "\n",
    "# Verify solution\n",
    "verification = H @ x_qr\n",
    "print(f\"H @ x = {verification}\")\n",
    "print(f\"Original b = {b_qr}\")\n",
    "print(f\"Solution correct? {np.allclose(verification, b_qr)}\")"
   ]
  }
 ],
 "metadata": {
  "kernelspec": {
   "display_name": "Python 3",
   "language": "python",
   "name": "python3"
  },
  "language_info": {
   "codemirror_mode": {
    "name": "ipython",
    "version": 3
   },
   "file_extension": ".py",
   "mimetype": "text/x-python",
   "name": "python",
   "nbconvert_exporter": "python",
   "pygments_lexer": "ipython3",
   "version": "3.8.5"
  }
 },
 "nbformat": 4,
 "nbformat_minor": 4
}