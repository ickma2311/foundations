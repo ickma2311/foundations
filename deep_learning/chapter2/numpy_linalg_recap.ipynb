{
 "cells": [
  {
   "cell_type": "markdown",
   "id": "0ffedc12",
   "metadata": {},
   "source": [
    "# 📘 NumPy `numpy.linalg` Knowledge Points and Exercises\n",
    "\n",
    "Use this recap to solidify the key linear algebra utilities available in `numpy.linalg`.\n",
    "Each section lists the concept, an exercise, and a starter code cell with preset data.\n",
    "Complete the TODOs by implementing the computations yourself.\n"
   ]
  },
  {
   "cell_type": "code",
   "execution_count": 7,
   "id": "48fe9632",
   "metadata": {},
   "outputs": [],
   "source": [
    "import numpy as np\n",
    "\n",
    "from matplotlib import pyplot as plt\n",
    "# All exercises below assume NumPy has been imported as np.\n"
   ]
  },
  {
   "cell_type": "markdown",
   "id": "b5cfc812",
   "metadata": {},
   "source": [
    "## 1. Norms (Vector and Matrix)\n",
    "\n",
    "### Vector Norms\n",
    "A **norm** measures the \"size\" of a vector $x \\in \\mathbb{R}^n$:\n",
    "\n",
    "- **L1 norm**: $\\|x\\|_1 = \\sum_{i=1}^n |x_i|$ (Manhattan distance)\n",
    "- **L2 norm**: $\\|x\\|_2 = \\sqrt{\\sum_{i=1}^n |x_i|^2}$ (Euclidean distance)  \n",
    "- **∞ norm**: $\\|x\\|_\\infty = \\max_i |x_i|$ (largest component)\n",
    "\n",
    "### Matrix Norms\n",
    "For matrix $A \\in \\mathbb{R}^{m \\times n}$:\n",
    "\n",
    "- **L1 norm**: $\\|A\\|_1 = \\max_j \\sum_i |a_{ij}|$ (max column sum)\n",
    "- **L2 norm**: $\\|A\\|_2 = \\sigma_{\\max}(A)$ (largest singular value)\n",
    "- **∞ norm**: $\\|A\\|_\\infty = \\max_i \\sum_j |a_{ij}|$ (max row sum)\n",
    "- **Frobenius norm**: $\\|A\\|_F = \\sqrt{\\sum_{i,j} a_{ij}^2}$ (L2 of all entries)\n",
    "\n",
    "**Exercise**: Given $A = \\begin{bmatrix}1 & -2 \\\\ 3 & 4\\end{bmatrix}$ and vector $v = [3, -4, 12]$:\n",
    "- Compute the Frobenius norm of $A$\n",
    "- Compute the L2 norm of vector $v$"
   ]
  },
  {
   "cell_type": "code",
   "execution_count": 8,
   "id": "095cffed",
   "metadata": {},
   "outputs": [
    {
     "name": "stdout",
     "output_type": "stream",
     "text": [
      "Frobenius norm of A: 5.477225575051661\n",
      "L2 norm of vector v: 13.0\n",
      "\n",
      "--- Matrix A norms ---\n",
      "L1 norm of A: 6.0\n",
      "L2 norm of A: 5.116672736016927\n",
      "∞ norm of A: 7.0\n",
      "\n",
      "--- Vector v norms ---\n",
      "L1 norm of v: 19.0\n",
      "∞ norm of v: 12.0\n"
     ]
    }
   ],
   "source": [
    "A = np.array([[1, -2], [3, 4]], dtype=float)\n",
    "vector_v = np.array([3, -4, 12], dtype=float)\n",
    "\n",
    "# Use np.linalg.norm to compute the requested norms\n",
    "print(\"Frobenius norm of A:\", np.linalg.norm(A, 'fro'))  # or just np.linalg.norm(A)\n",
    "print(\"L2 norm of vector v:\", np.linalg.norm(vector_v))\n",
    "\n",
    "# Additional examples of different norms:\n",
    "print(\"\\n--- Matrix A norms ---\")\n",
    "print(\"L1 norm of A:\", np.linalg.norm(A, ord=1))\n",
    "print(\"L2 norm of A:\", np.linalg.norm(A, ord=2))\n",
    "print(\"∞ norm of A:\", np.linalg.norm(A, ord=np.inf))\n",
    "\n",
    "print(\"\\n--- Vector v norms ---\")  \n",
    "print(\"L1 norm of v:\", np.linalg.norm(vector_v, ord=1))\n",
    "print(\"∞ norm of v:\", np.linalg.norm(vector_v, ord=np.inf))"
   ]
  },
  {
   "cell_type": "markdown",
   "id": "79339c23",
   "metadata": {},
   "source": [
    "## 2. Determinant (`det`)\n",
    "\n",
    "**Definition**: For square matrix $A \\in \\mathbb{R}^{n \\times n}$, the determinant $\\det(A)$ is a scalar.\n",
    "\n",
    "**Key formulas**:\n",
    "- $2 \\times 2$: $\\det\\begin{bmatrix}a & b \\\\ c & d\\end{bmatrix} = ad - bc$\n",
    "- General: Laplace expansion along any row/column\n",
    "\n",
    "**Geometric meaning**: $|\\det(A)|$ = scaling factor for area (2D) or volume (3D) under transformation $A$.\n",
    "\n",
    "**Properties**:\n",
    "- $A$ is invertible ⟺ $\\det(A) \\neq 0$\n",
    "- $\\det(AB) = \\det(A) \\cdot \\det(B)$\n",
    "- If $\\det(A) = 0$, rows/columns are linearly dependent\n",
    "\n",
    "**Exercise**: Compute $\\det(B)$ for $B = \\begin{bmatrix}2 & 1 \\\\ 5 & 3\\end{bmatrix}$ and determine if $B$ is invertible."
   ]
  },
  {
   "cell_type": "code",
   "execution_count": 9,
   "id": "a9c19950",
   "metadata": {},
   "outputs": [
    {
     "name": "stdout",
     "output_type": "stream",
     "text": [
      "det(B) = 1.0000000000000002\n",
      "Manual calculation: 2*3 - 1*5 = 1\n",
      "B is invertible (det ≠ 0)\n"
     ]
    }
   ],
   "source": [
    "B = np.array([[2, 1], [5, 3]], dtype=float)\n",
    "\n",
    "# Compute np.linalg.det(B) and interpret the result\n",
    "det_B = np.linalg.det(B)\n",
    "print(f\"det(B) = {det_B}\")\n",
    "\n",
    "# Manual calculation: 2*3 - 1*5 = 6 - 5 = 1\n",
    "print(f\"Manual calculation: 2*3 - 1*5 = {2*3 - 1*5}\")\n",
    "\n",
    "# Invertibility check\n",
    "if det_B != 0:\n",
    "    print(\"B is invertible (det ≠ 0)\")\n",
    "else:\n",
    "    print(\"B is singular (det = 0)\")"
   ]
  },
  {
   "cell_type": "markdown",
   "id": "dab91c50",
   "metadata": {},
   "source": [
    "## 3. Matrix Inverse (`inv`)\n",
    "\n",
    "**Definition**: For square matrix $A$, the inverse $A^{-1}$ satisfies $A A^{-1} = A^{-1} A = I$.\n",
    "\n",
    "**Existence**: $A^{-1}$ exists ⟺ $\\det(A) \\neq 0$ (non-singular matrix).\n",
    "\n",
    "**Formula (2×2)**:\n",
    "$$A = \\begin{bmatrix} a & b \\\\ c & d \\end{bmatrix} \\Rightarrow A^{-1} = \\frac{1}{ad-bc} \\begin{bmatrix} d & -b \\\\ -c & a \\end{bmatrix}$$\n",
    "\n",
    "**Properties**:\n",
    "- $(AB)^{-1} = B^{-1}A^{-1}$\n",
    "- $(A^T)^{-1} = (A^{-1})^T$\n",
    "- If $\\det(A) = 0$, matrix is singular (no inverse)\n",
    "\n",
    "**Exercise**: Find inverse of $C = \\begin{bmatrix}4 & 7 \\\\ 2 & 6\\end{bmatrix}$ and verify $C \\cdot C^{-1} = I$."
   ]
  },
  {
   "cell_type": "code",
   "execution_count": 10,
   "id": "7c3f88f7",
   "metadata": {},
   "outputs": [
    {
     "name": "stdout",
     "output_type": "stream",
     "text": [
      "C_inv:\n",
      " [[ 0.6 -0.7]\n",
      " [-0.2  0.4]]\n",
      "\n",
      "C @ C_inv:\n",
      " [[ 1.00000000e+00 -1.11022302e-16]\n",
      " [-1.11022302e-16  1.00000000e+00]]\n",
      "\n",
      "Is C @ C_inv ≈ I? True\n",
      "\n",
      "det(C) = 10.000000000000002\n",
      "Manual inverse: 1/10.000000000000002 * [[6, -7], [-2, 4]]\n"
     ]
    }
   ],
   "source": [
    "C = np.array([[4, 7], [2, 6]], dtype=float)\n",
    "\n",
    "# Compute C_inv = np.linalg.inv(C) and verify that C @ C_inv gives identity\n",
    "C_inv = np.linalg.inv(C)\n",
    "print(\"C_inv:\\n\", C_inv)\n",
    "\n",
    "# Verify C @ C_inv = I\n",
    "product = C @ C_inv\n",
    "print(\"\\nC @ C_inv:\\n\", product)\n",
    "\n",
    "# Check if close to identity (accounting for floating point errors)\n",
    "identity_check = np.allclose(product, np.eye(2))\n",
    "print(f\"\\nIs C @ C_inv ≈ I? {identity_check}\")\n",
    "\n",
    "# Manual calculation for 2x2 inverse\n",
    "det_C = np.linalg.det(C)\n",
    "print(f\"\\ndet(C) = {det_C}\")\n",
    "print(f\"Manual inverse: 1/{det_C} * [[6, -7], [-2, 4]]\")"
   ]
  },
  {
   "cell_type": "markdown",
   "id": "53448d49",
   "metadata": {},
   "source": [
    "## 4. Solve Linear System (`solve`)\n",
    "\n",
    "**Problem**: Solve $Ax = b$ for unknown vector $x$.\n",
    "\n",
    "**System types**:\n",
    "- **Square** ($m = n$): Unique solution if $\\det(A) \\neq 0$\n",
    "- **Overdetermined** ($m > n$): More equations than unknowns → least squares\n",
    "- **Underdetermined** ($m < n$): More unknowns than equations → infinite solutions\n",
    "\n",
    "**Methods**:\n",
    "- **Direct**: `np.linalg.solve(A, b)` (most efficient for square systems)\n",
    "- **Matrix inverse**: $x = A^{-1}b$ (avoid for numerical stability)\n",
    "- **Least squares**: `np.linalg.lstsq(A, b)` for overdetermined systems\n",
    "\n",
    "**Exercise**: Solve the system:\n",
    "$$\\begin{cases} 2x + y = 5 \\\\ 4x - 6y = -2 \\end{cases}$$"
   ]
  },
  {
   "cell_type": "code",
   "execution_count": 11,
   "id": "a2e17677",
   "metadata": {},
   "outputs": [
    {
     "name": "stdout",
     "output_type": "stream",
     "text": [
      "Solution x = [1.75 1.5 ]\n",
      "Verification A @ x = [ 5. -2.]\n",
      "Original b = [ 5. -2.]\n",
      "Match? True\n",
      "\n",
      "Using inverse: x = [1.75 1.5 ]\n",
      "Same result? True\n"
     ]
    }
   ],
   "source": [
    "A_system = np.array([[2, 1], [4, -6]], dtype=float)\n",
    "b_system = np.array([5, -2], dtype=float)\n",
    "\n",
    "# Solve for the vector x that satisfies A_system @ x = b_system\n",
    "x_solution = np.linalg.solve(A_system, b_system)\n",
    "print(\"Solution x =\", x_solution)\n",
    "\n",
    "# Verify the solution\n",
    "verification = A_system @ x_solution\n",
    "print(\"Verification A @ x =\", verification)\n",
    "print(\"Original b =\", b_system)\n",
    "print(\"Match?\", np.allclose(verification, b_system))\n",
    "\n",
    "# Alternative: using matrix inverse (less efficient)\n",
    "x_inverse = np.linalg.inv(A_system) @ b_system\n",
    "print(\"\\nUsing inverse: x =\", x_inverse)\n",
    "print(\"Same result?\", np.allclose(x_solution, x_inverse))"
   ]
  },
  {
   "cell_type": "markdown",
   "id": "ecb3c6c3",
   "metadata": {},
   "source": [
    "## 5. Eigenvalues and Eigenvectors (`eig`)\n",
    "\n",
    "**Definition**: For square matrix $A$, find $\\lambda$ and $v \\neq 0$ such that:\n",
    "$$Av = \\lambda v$$\n",
    "- $\\lambda$: eigenvalue (scaling factor)\n",
    "- $v$: eigenvector (preserved direction)\n",
    "\n",
    "**Geometric meaning**: Eigenvectors are special directions that $A$ only stretches/shrinks (no rotation).\n",
    "\n",
    "**Characteristic equation**: $\\det(A - \\lambda I) = 0$\n",
    "\n",
    "**Properties**:\n",
    "- $n \\times n$ matrix has at most $n$ eigenvalues\n",
    "- $\\text{trace}(A) = \\sum \\lambda_i$, $\\det(A) = \\prod \\lambda_i$\n",
    "- Symmetric matrices have real eigenvalues and orthogonal eigenvectors\n",
    "\n",
    "**Applications**: PCA, stability analysis, Google PageRank, quantum mechanics\n",
    "\n",
    "**Exercise**: Find eigenvalues and eigenvectors of $D = \\begin{bmatrix}1 & 2 \\\\ 2 & 1\\end{bmatrix}$."
   ]
  },
  {
   "cell_type": "code",
   "execution_count": 12,
   "id": "5a1aae84",
   "metadata": {},
   "outputs": [
    {
     "name": "stdout",
     "output_type": "stream",
     "text": [
      "Eigenvalues: [ 3. -1.]\n",
      "Eigenvectors:\n",
      " [[ 0.70710678 -0.70710678]\n",
      " [ 0.70710678  0.70710678]]\n",
      "\n",
      "--- Verification ---\n",
      "λ1 = 3.000\n",
      "A @ v1 = [2.12132034 2.12132034]\n",
      "λ1 * v1 = [2.12132034 2.12132034]\n",
      "Match? True\n",
      "\n",
      "λ2 = -1.000\n",
      "A @ v2 = [ 0.70710678 -0.70710678]\n",
      "λ2 * v2 = [ 0.70710678 -0.70710678]\n",
      "Match? True\n",
      "\n",
      "trace(D) = 2.0, sum(eigenvalues) = 2.000000000000001\n",
      "det(D) = -2.9999999999999996, product(eigenvalues) = -2.999999999999999\n"
     ]
    }
   ],
   "source": [
    "D = np.array([[1, 2], [2, 1]], dtype=float)\n",
    "\n",
    "# Use np.linalg.eig(D) to obtain eigenvalues and eigenvectors\n",
    "eigvals, eigvecs = np.linalg.eig(D)\n",
    "print(\"Eigenvalues:\", eigvals)\n",
    "print(\"Eigenvectors:\\n\", eigvecs)\n",
    "\n",
    "# Verify: A @ v = λ @ v for each eigenvalue/eigenvector pair\n",
    "print(\"\\n--- Verification ---\")\n",
    "for i in range(len(eigvals)):\n",
    "    λ = eigvals[i]\n",
    "    v = eigvecs[:, i]  # i-th column is i-th eigenvector\n",
    "    \n",
    "    Av = D @ v\n",
    "    λv = λ * v\n",
    "    \n",
    "    print(f\"λ{i+1} = {λ:.3f}\")\n",
    "    print(f\"A @ v{i+1} = {Av}\")\n",
    "    print(f\"λ{i+1} * v{i+1} = {λv}\")\n",
    "    print(f\"Match? {np.allclose(Av, λv)}\\n\")\n",
    "\n",
    "# Check properties: trace and determinant\n",
    "print(f\"trace(D) = {np.trace(D)}, sum(eigenvalues) = {np.sum(eigvals)}\")\n",
    "print(f\"det(D) = {np.linalg.det(D)}, product(eigenvalues) = {np.prod(eigvals)}\")"
   ]
  },
  {
   "cell_type": "markdown",
   "id": "3d98735d",
   "metadata": {},
   "source": [
    "\n",
    "---\n",
    "\n",
    "## 6. Singular Value Decomposition (`svd`)\n",
    "\n",
    "- **Core idea:** Any matrix $A \\in \\mathbb{R}^{m \\times n}$ factors as $A = U \\Sigma V^T$ with orthogonal $U$ and $V$ and non-negative singular values on the diagonal of $\\Sigma$.\n",
    "- **Geometry:** $V^T$ applies a rotation/reflection to the input, $\\Sigma$ rescales coordinate axes, and $U$ applies a rotation/reflection to the output—capturing how $A$ stretches vectors.\n",
    "- **Useful facts:** singular values equal $\\sqrt{\\text{eigenvalues of }A^T A}$; the number of non-zero $\\sigma_i$ gives $\\operatorname{rank}(A)$; $\\kappa(A) = \\sigma_{\\max}/\\sigma_{\\min}$; SVD exists for every real matrix.\n",
    "- **Applications:** PCA (principal components), low-rank approximation, and diagnosing numerical stability in deep models.\n",
    "\n",
    "**Exercise:** Perform SVD on\n",
    "$$\n",
    "E = \\begin{bmatrix}3 & 1 \\\\ 1 & 3\\end{bmatrix}\n",
    "$$\n",
    "and verify $E = U \\Sigma V^T$.\n",
    "\n"
   ]
  },
  {
   "cell_type": "code",
   "execution_count": 13,
   "id": "14b33e82",
   "metadata": {},
   "outputs": [
    {
     "name": "stdout",
     "output_type": "stream",
     "text": [
      "U (left singular vectors):\n",
      " [[-0.70710678 -0.70710678]\n",
      " [-0.70710678  0.70710678]]\n",
      "\n",
      "S (singular values): [4. 2.]\n",
      "\n",
      "Vt (right singular vectors transposed):\n",
      " [[-0.70710678 -0.70710678]\n",
      " [-0.70710678  0.70710678]]\n",
      "\n",
      "Original E:\n",
      " [[3. 1.]\n",
      " [1. 3.]]\n",
      "\n",
      "Reconstructed E:\n",
      " [[3. 1.]\n",
      " [1. 3.]]\n",
      "\n",
      "Reconstruction accurate? True\n"
     ]
    }
   ],
   "source": [
    "E = np.array([[3, 1], [1, 3]], dtype=float)\n",
    "\n",
    "# Compute U, S, Vt = np.linalg.svd(E) and verify the reconstruction\n",
    "U, S, Vt = np.linalg.svd(E)\n",
    "print(\"U (left singular vectors):\\n\", U)\n",
    "print(\"\\nS (singular values):\", S)\n",
    "print(\"\\nVt (right singular vectors transposed):\\n\", Vt)\n",
    "\n",
    "# Verify reconstruction: E = U @ diag(S) @ Vt\n",
    "E_reconstructed = U @ np.diag(S) @ Vt\n",
    "print(\"\\nOriginal E:\\n\", E)\n",
    "print(\"\\nReconstructed E:\\n\", E_reconstructed)\n",
    "print(\"\\nReconstruction accurate?\", np.allclose(E, E_reconstructed))"
   ]
  },
  {
   "cell_type": "markdown",
   "id": "99017fbc",
   "metadata": {},
   "source": [
    "\n",
    "---\n",
    "\n",
    "## 7. Matrix Rank (`matrix_rank`)\n",
    "\n",
    "- **Definition:** Rank counts the number of linearly independent rows/columns; row rank equals column rank and cannot exceed $\\min(m,n)$.\n",
    "- **Geometry:** It is the dimension of the subspace spanned by the matrix—full-rank square matrices are invertible ($\\det \\neq 0$), lower rank means the map collapses dimensions.\n",
    "- **How to compute:** Perform Gaussian elimination, count non-zero singular values (SVD), or call `np.linalg.matrix_rank`.\n",
    "- **Why it matters:** Reveals independent equations in linear systems, the intrinsic dimensionality used in PCA/compression, and whether low-rank weights may restrict deep models.\n",
    "\n",
    "**Exercise:** Find the rank of\n",
    "$$\n",
    "F = \\begin{bmatrix}\n",
    "1 & 2 & 3 \\\\\n",
    "2 & 4 & 6 \\\\\n",
    "3 & 6 & 9\n",
    "\\end{bmatrix}\n",
    "$$\n",
    "and explain the result.\n",
    "\n"
   ]
  },
  {
   "cell_type": "code",
   "execution_count": 14,
   "id": "92f954b4",
   "metadata": {},
   "outputs": [
    {
     "name": "stdout",
     "output_type": "stream",
     "text": [
      "Matrix F:\n",
      "[[1. 2. 3.]\n",
      " [2. 4. 6.]\n",
      " [3. 6. 9.]]\n",
      "\n",
      "Rank of F: 1\n",
      "\n",
      "Verification:\n",
      "2 * row[0] = [2. 4. 6.]\n",
      "row[1] = [2. 4. 6.]\n",
      "Are they equal? True\n",
      "\n",
      "3 * row[0] = [3. 6. 9.]\n",
      "row[2] = [3. 6. 9.]\n",
      "Are they equal? True\n"
     ]
    }
   ],
   "source": [
    "F = np.array([[1, 2, 3], [2, 4, 6], [3, 6, 9]], dtype=float)\n",
    "\n",
    "# Evaluate np.linalg.matrix_rank(F) and discuss why the rank has that value\n",
    "rank_F = np.linalg.matrix_rank(F)\n",
    "print(f\"Matrix F:\\n{F}\")\n",
    "print(f\"\\nRank of F: {rank_F}\")\n",
    "\n",
    "# Verify linear dependence\n",
    "print(f\"\\nVerification:\")\n",
    "print(f\"2 * row[0] = {2 * F[0]}\")\n",
    "print(f\"row[1] = {F[1]}\")\n",
    "print(f\"Are they equal? {np.allclose(2 * F[0], F[1])}\")\n",
    "\n",
    "print(f\"\\n3 * row[0] = {3 * F[0]}\")\n",
    "print(f\"row[2] = {F[2]}\")\n",
    "print(f\"Are they equal? {np.allclose(3 * F[0], F[2])}\")"
   ]
  },
  {
   "cell_type": "markdown",
   "id": "61846e65",
   "metadata": {},
   "source": [
    "**Explanation**: Because $2 \\times F_0 = F_1$ and $3 \\times F_0 = F_2$, both rows $F_1$ and $F_2$ are linearly dependent on $F_0$, so the rank is 1."
   ]
  },
  {
   "cell_type": "markdown",
   "id": "e18e7e3a",
   "metadata": {},
   "source": [
    "---\n",
    "\n",
    "## 8. Pseudoinverse (`pinv`)\n",
    "\n",
    "- **Concept**: Moore–Penrose pseudoinverse, used in underdetermined or overdetermined systems.\n",
    "- **Exercise**:\n",
    "  For\n",
    "  $$\n",
    "  G = \\begin{bmatrix}1 & 2 \\\\ 3 & 4 \\\\ 5 & 6\\end{bmatrix}\n",
    "  $$\n",
    "  compute the pseudoinverse and use it to solve the least squares problem $Gx \\approx [7, 8, 9]^T$.\n",
    "\n"
   ]
  },
  {
   "cell_type": "markdown",
   "id": "d8eda7b8",
   "metadata": {},
   "source": [
    "To solve $Gx = b$, we can calculate $G^+ \\cdot b$, because:\n",
    "$$\n",
    "G^+ \\cdot G \\cdot x = G^+ \\cdot b \\\\\n",
    "I_n \\cdot x = x\n",
    "$$"
   ]
  },
  {
   "cell_type": "code",
   "execution_count": 15,
   "id": "08ff1fb0",
   "metadata": {},
   "outputs": [
    {
     "name": "stdout",
     "output_type": "stream",
     "text": [
      "Matrix G:\n",
      " [[1. 2.]\n",
      " [3. 4.]\n",
      " [5. 6.]]\n",
      "\n",
      "Pseudoinverse G+:\n",
      " [[-1.33333333 -0.33333333  0.66666667]\n",
      " [ 1.08333333  0.33333333 -0.41666667]]\n",
      "\n",
      "Least-squares solution x: [-6.   6.5]\n",
      "\n",
      "G @ x = [7. 8. 9.]\n",
      "Original b = [7. 8. 9.]\n",
      "Residual ||Gx - b|| = 0.000000\n"
     ]
    }
   ],
   "source": [
    "G = np.array([[1, 2], [3, 4], [5, 6]], dtype=float)\n",
    "b_ls = np.array([7, 8, 9], dtype=float)\n",
    "\n",
    "# Compute the Moore–Penrose pseudoinverse of G and obtain the least-squares solution\n",
    "G_pinv = np.linalg.pinv(G)\n",
    "x_ls = G_pinv @ b_ls\n",
    "\n",
    "print(\"Matrix G:\\n\", G)\n",
    "print(\"\\nPseudoinverse G+:\\n\", G_pinv)\n",
    "print(\"\\nLeast-squares solution x:\", x_ls)\n",
    "\n",
    "# Verify: G @ x should be as close to b as possible\n",
    "Gx = G @ x_ls\n",
    "print(f\"\\nG @ x = {Gx}\")\n",
    "print(f\"Original b = {b_ls}\")\n",
    "print(f\"Residual ||Gx - b|| = {np.linalg.norm(Gx - b_ls):.6f}\")"
   ]
  },
  {
   "cell_type": "markdown",
   "id": "9dccd1a0",
   "metadata": {},
   "source": [
    "---\n",
    "\n",
    "## 9. QR Decomposition (`qr`)\n",
    "\n",
    "**Definition:** For $A\\in\\mathbb{R}^{m\\times n}$ with $m\\ge n$, factor $A=QR$ with column-orthonormal $Q\\in\\mathbb{R}^{m\\times n}$ and upper-triangular $R\\in\\mathbb{R}^{n\\times n}$. If $m=n$, $Q^TQ=I$.\n",
    "\n",
    "**Geometry:** $Q$ re-expresses vectors in an orthonormal basis (rotation/reflection); $R$ applies the scaling/combination in that basis.\n",
    "\n",
    "**Computation:** Classical Gram-Schmidt is instructive but unstable; NumPy uses Householder reflections or Givens rotations for robustness.\n",
    "\n",
    "**Applications:**\n",
    "- Solve $Ax=b$ via $QRx=b\\Rightarrow Rx=Q^Tb$.\n",
    "- Least-squares fits when $m>n$.\n",
    "- Core step in QR eigenvalue algorithms and other numerically stable routines.\n",
    "\n",
    "**Try it in NumPy:**\n",
    "\n",
    "```python\n",
    "import numpy as np\n",
    "A = np.array([[1., 1.],\n",
    "              [1., -1.],\n",
    "              [1., 2.]])\n",
    "Q, R = np.linalg.qr(A)\n",
    "print(Q)\n",
    "print(R)\n",
    "print(np.allclose(A, Q @ R))\n",
    "```\n",
    "\n"
   ]
  },
  {
   "cell_type": "code",
   "execution_count": 16,
   "id": "d85639d6",
   "metadata": {},
   "outputs": [
    {
     "name": "stdout",
     "output_type": "stream",
     "text": [
      "Matrix H:\n",
      " [[ 1.  1.]\n",
      " [ 1. -1.]]\n",
      "\n",
      "Q (orthogonal matrix):\n",
      " [[-0.70710678 -0.70710678]\n",
      " [-0.70710678  0.70710678]]\n",
      "\n",
      "R (upper triangular matrix):\n",
      " [[-1.41421356e+00  3.33066907e-16]\n",
      " [ 0.00000000e+00 -1.41421356e+00]]\n",
      "\n",
      "Verification: H = Q @ R\n",
      "Q @ R =\n",
      "[[ 1.  1.]\n",
      " [ 1. -1.]]\n",
      "Reconstruction accurate? True\n",
      "\n",
      "Solution x = [1. 1.]\n",
      "H @ x = [ 2.00000000e+00 -1.11022302e-16]\n",
      "Original b = [2. 0.]\n",
      "Solution correct? True\n"
     ]
    }
   ],
   "source": [
    "H = np.array([[1, 1], [1, -1]], dtype=float)\n",
    "b_qr = np.array([2, 0], dtype=float)\n",
    "\n",
    "# Compute the QR decomposition of H and use it to solve H @ x = b_qr\n",
    "Q, R = np.linalg.qr(H)\n",
    "\n",
    "print(\"Matrix H:\\n\", H)\n",
    "print(\"\\nQ (orthogonal matrix):\\n\", Q)\n",
    "print(\"\\nR (upper triangular matrix):\\n\", R)\n",
    "\n",
    "# Verify QR decomposition: H = Q @ R\n",
    "print(f\"\\nVerification: H = Q @ R\")\n",
    "print(f\"Q @ R =\\n{Q @ R}\")\n",
    "print(f\"Reconstruction accurate? {np.allclose(H, Q @ R)}\")\n",
    "\n",
    "# Solve using QR: H @ x = b => Q @ R @ x = b => R @ x = Q^T @ b\n",
    "x_qr = np.linalg.solve(R, Q.T @ b_qr)\n",
    "print(f\"\\nSolution x = {x_qr}\")\n",
    "\n",
    "# Verify solution\n",
    "verification = H @ x_qr\n",
    "print(f\"H @ x = {verification}\")\n",
    "print(f\"Original b = {b_qr}\")\n",
    "print(f\"Solution correct? {np.allclose(verification, b_qr)}\")"
   ]
  }
 ],
 "metadata": {
  "kernelspec": {
   "display_name": "research",
   "language": "python",
   "name": "python3"
  },
  "language_info": {
   "codemirror_mode": {
    "name": "ipython",
    "version": 3
   },
   "file_extension": ".py",
   "mimetype": "text/x-python",
   "name": "python",
   "nbconvert_exporter": "python",
   "pygments_lexer": "ipython3",
   "version": "3.12.3"
  }
 },
 "nbformat": 4,
 "nbformat_minor": 5
}
