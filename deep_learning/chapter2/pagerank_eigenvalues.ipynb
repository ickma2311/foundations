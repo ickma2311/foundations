{
 "cells": [
  {
   "cell_type": "markdown",
   "metadata": {},
   "source": [
    "# Chapter 2 Mini Project: Eigenvalues via PageRank\n",
    "\n",
    "This notebook explores eigenvalues and eigenvectors through a toy PageRank example.\n",
    "We study how a simple link structure among three webpages leads to a steady-state\n",
    "importance score computed from the dominant eigenvector of a transition matrix.\n"
   ]
  },
  {
   "cell_type": "markdown",
   "metadata": {},
   "source": [
    "## Web Link Structure\n",
    "\n",
    "We consider three webpages, labeled **A**, **B**, and **C**, with the following link pattern:\n",
    "\n",
    "- Page A links to pages B and C.\n",
    "- Page B links to page A.\n",
    "- Page C links to page A.\n",
    "\n",
    "Each page splits its 'votes' equally among the pages it links to. This yields the column-stochastic\n",
    "transition matrix **M** that captures how rank flows from one page to another.\n"
   ]
  },
  {
   "cell_type": "markdown",
   "metadata": {},
   "source": [
    "## Transition Matrix\n",
    "\n",
    "The transition matrix is:\n",
    "\n",
    "$$\n",
    "M = \n",
    "\\begin{bmatrix}\n",
    "0 & 1 & 1 \\\\\n",
    "0.5 & 0 & 0 \\\\\n",
    "0.5 & 0 & 0\n",
    "\\end{bmatrix}\n",
    "$$\n",
    "\n",
    "Each column corresponds to a source page, and the entries show how that page distributes its rank\n",
    "among the pages it links to. For instance, the first column (page A) splits its rank 50/50 between\n",
    "pages B and C.\n"
   ]
  },
  {
   "cell_type": "markdown",
   "metadata": {},
   "source": [
    "## Project Tasks\n",
    "\n",
    "1. **Compute eigenvalues and eigenvectors of M.**\n",
    "   - Work out the characteristic polynomial and solve for eigenvalues.\n",
    "   - For each eigenvalue, find the associated eigenvectors.\n",
    "\n",
    "2. **Interpretation of the dominant eigenvector.**\n",
    "   - Focus on the eigenvalue $\\lambda = 1$ (the steady-state).\n",
    "   - Normalize the corresponding eigenvector so its entries sum to 1.\n",
    "\n",
    "3. **Discuss the PageRank result.**\n",
    "   - Treat the normalized eigenvector entries as the long-run importance (PageRank scores) for pages A, B, and C.\n",
    "   - Determine which page is most important and explain why, using the link structure for intuition.\n"
   ]
  },
  {
   "cell_type": "markdown",
   "metadata": {},
   "source": [
    "## Optional Reflections\n",
    "\n",
    "- How would the PageRank scores change if page A also linked back to itself?\n",
    "- What happens to the eigenvalues if you introduce a damping factor (as in real PageRank)?\n",
    "- Compare the steady-state vector with the result of repeatedly multiplying an initial rank vector by M.\n"
   ]
  }
 ],
 "metadata": {
  "kernelspec": {
   "display_name": "Python 3",
   "language": "python",
   "name": "python3"
  },
  "language_info": {
   "name": "python",
   "version": "3.x"
  }
 },
 "nbformat": 4,
 "nbformat_minor": 5
}
