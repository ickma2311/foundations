{
 "cells": [
  {
   "cell_type": "markdown",
   "id": "5e978bc1",
   "metadata": {},
   "source": [
    "# 🧮 Exercise: PCA and Linear Algebra (Deep Learning Book - Chapter 2)\n",
    "\n",
    "## Background\n",
    "Chapter 2 of *Deep Learning* (Goodfellow, Bengio, Courville) emphasizes the role of **linear algebra** in machine learning.  \n",
    "One important application is **Principal Component Analysis (PCA)**, which relies on **eigenvalues/eigenvectors** or **singular value decomposition (SVD)** to reduce dimensionality while preserving as much variance as possible.\n",
    "\n",
    "\n"
   ]
  },
  {
   "cell_type": "markdown",
   "id": "d5f68c74",
   "metadata": {},
   "source": [
    "## Exercise\n",
    "\n",
    "You are given a dataset of 2D points (could represent activations from a neural network layer):\n",
    "\n",
    "$$\n",
    "X = \\begin{bmatrix}\n",
    "2.5 & 2.4 \\\\\n",
    "0.5 & 0.7 \\\\\n",
    "2.2 & 2.9 \\\\\n",
    "1.9 & 2.2 \\\\\n",
    "3.1 & 3.0 \\\\\n",
    "2.3 & 2.7 \\\\\n",
    "2.0 & 1.6 \\\\\n",
    "1.0 & 1.1 \\\\\n",
    "1.5 & 1.6 \\\\\n",
    "1.1 & 0.9\n",
    "\\end{bmatrix}\n",
    "$$\n",
    "\n",
    "### Tasks\n",
    "1. **Center the data**  \n",
    "   Subtract the mean of each column from the dataset $X$.\n",
    "\n",
    "2. **Compute the covariance matrix** of the centered data.\n",
    "\n",
    "3. **Find the eigenvalues and eigenvectors** of the covariance matrix.  \n",
    "   - Which eigenvector corresponds to the largest eigenvalue?  \n",
    "   - Interpret this as the **direction of maximum variance**.\n",
    "\n",
    "4. **Project the data** onto the first principal component (1D subspace).  \n",
    "   Write the new transformed dataset.\n",
    "\n",
    "5. (Optional, Deep Learning connection)  \n",
    "   - Explain why PCA can be seen as a **linear transformation** that learns a new basis.  \n",
    "   - Discuss how this relates to **hidden layers in neural networks**, which also learn useful representations.\n",
    "\n",
    "---\n"
   ]
  },
  {
   "cell_type": "markdown",
   "id": "e3cb9be1",
   "metadata": {},
   "source": [
    "## Hint (using NumPy)\n"
   ]
  },
  {
   "cell_type": "code",
   "execution_count": 2,
   "id": "58edea8f",
   "metadata": {},
   "outputs": [
    {
     "name": "stdout",
     "output_type": "stream",
     "text": [
      "X_pca: [-0.82797019  1.77758033 -0.99219749 -0.27421042 -1.67580142 -0.9129491\n",
      "  0.09910944  1.14457216  0.43804614  1.22382056]\n"
     ]
    }
   ],
   "source": [
    "import numpy as np\n",
    "\n",
    "# Step 1: Center the data\n",
    "X = np.array([\n",
    "    [2.5, 2.4],\n",
    "    [0.5, 0.7],\n",
    "    [2.2, 2.9],\n",
    "    [1.9, 2.2],\n",
    "    [3.1, 3.0],\n",
    "    [2.3, 2.7],\n",
    "    [2.0, 1.6],\n",
    "    [1.0, 1.1],\n",
    "    [1.5, 1.6],\n",
    "    [1.1, 0.9]\n",
    "])\n",
    "X_centered = X - np.mean(X, axis=0)\n",
    "\n",
    "# Step 2: Covariance matrix\n",
    "cov_matrix = np.cov(X_centered, rowvar=False)\n",
    "\n",
    "# Step 3: Eigen decomposition\n",
    "eigvals, eigvecs = np.linalg.eig(cov_matrix)\n",
    "\n",
    "# Step 4: Project onto the first principal component\n",
    "pc1 = eigvecs[:, np.argmax(eigvals)]\n",
    "X_pca = X_centered @ pc1\n",
    "\n",
    "print(\"X_pca:\",X_pca)"
   ]
  },
  {
   "cell_type": "code",
   "execution_count": 8,
   "id": "48d49b2e",
   "metadata": {},
   "outputs": [
    {
     "name": "stdout",
     "output_type": "stream",
     "text": [
      "X_pca: [-0.82797019  1.77758033 -0.99219749 -0.27421042 -1.67580142 -0.9129491\n",
      "  0.09910944  1.14457216  0.43804614  1.22382056]\n"
     ]
    }
   ],
   "source": [
    "# calculate the center\n",
    "X_centered=X-np.mean(X,axis=0)\n",
    "\n",
    "# Calculate the covariance matrix\n",
    "\n",
    "X_cov=np.cov(X_centered,rowvar=False)\n",
    "\n",
    "# calculate the eigen values and eigen vectors\n",
    "\n",
    "eigvals,eigvecs=np.linalg.eig(X_cov)\n",
    "\n",
    "# Project the data on to the first principal component\n",
    "\n",
    "pc1=eigvecs[:,np.argmax(eigvals)]\n",
    "\n",
    "X_pca=X_centered@pc1\n",
    "\n",
    "print(\"X_pca:\",X_pca)\n",
    "\n",
    "\n"
   ]
  },
  {
   "cell_type": "markdown",
   "id": "3b5dd031",
   "metadata": {},
   "source": [
    "## Real-World PCA Exercise\n",
    "\n",
    "Now let's apply PCA to real-world datasets to understand how dimensionality reduction preserves important features while removing noise."
   ]
  },
  {
   "cell_type": "markdown",
   "id": "72f4e0f8",
   "metadata": {},
   "source": [
    "### Hints for Real-World PCA Exercise\n",
    "\n",
    "**Dataset Options:**\n",
    "1. **Wine Dataset**: `from sklearn.datasets import load_wine` (13 features, 3 classes)\n",
    "2. **Breast Cancer**: `from sklearn.datasets import load_breast_cancer` (30 features, 2 classes)\n",
    "3. **Digits**: `from sklearn.datasets import load_digits` (64 features, 10 classes)\n",
    "\n",
    "**Steps to implement:**\n",
    "1. Load dataset and examine features\n",
    "2. Standardize the data using `StandardScaler()`\n",
    "3. Apply manual PCA using eigendecomposition\n",
    "4. Use `np.argsort(eigenvals)[-k:][::-1]` to select top k components\n",
    "5. Visualize results and calculate variance explained\n",
    "6. Verify that main features/classes are preserved after dimensionality reduction"
   ]
  },
  {
   "cell_type": "code",
   "execution_count": 20,
   "id": "f03e6ee7",
   "metadata": {},
   "outputs": [
    {
     "name": "stdout",
     "output_type": "stream",
     "text": [
      "Explained variance: [0.52634184 0.47365816]\n"
     ]
    }
   ],
   "source": [
    "# TODO: Implement PCA on a real-world dataset\n",
    "from sklearn.datasets import load_wine\n",
    "from sklearn.preprocessing import StandardScaler\n",
    "\n",
    "# Step 1: Load a dataset (choose one from the hints above)\n",
    "X=load_wine().data\n",
    "\n",
    "# Step 2: Standardize the features \n",
    "scaler=StandardScaler()\n",
    "X_scaled=scaler.fit_transform(X)\n",
    "\n",
    "# Step 3: Center the data\n",
    "X_centered=X_scaled-np.mean(X_scaled,axis=0)\n",
    "\n",
    "# Step 4: Compute covariance matrix\n",
    "X_cov=np.cov(X_centered,rowvar=False)\n",
    "\n",
    "# Step 5: Eigendecomposition\n",
    "eigvals,eigvecs=np.linalg.eig(X_cov)\n",
    "\n",
    "\n",
    "# Step 6: Select top k components using np.argsort()\n",
    "\n",
    "pc=eigvecs[:,np.argsort(eigvals)[-3:][::-1]]\n",
    "\n",
    "# Step 7: Project data onto principal components\n",
    "X_pca=X_centered@pc\n",
    "\n",
    "# Step 8: Calculate variance explained\n",
    "print(\"Explained variance:\",eigvals[-2:][::-1]/np.sum(eigvals[-2:][::-1]))\n"
   ]
  },
  {
   "cell_type": "code",
   "execution_count": 21,
   "id": "6086e15e",
   "metadata": {},
   "outputs": [
    {
     "data": {
      "text/plain": [
       "array([0.25232001, 0.22706428, 0.29051203, 0.16972374, 0.35046627,\n",
       "       0.10396199, 0.55414147, 0.64528221, 0.85804868, 0.92416587,\n",
       "       1.45424187, 2.51108093, 4.73243698])"
      ]
     },
     "execution_count": 21,
     "metadata": {},
     "output_type": "execute_result"
    }
   ],
   "source": [
    "eigvals[::-1]"
   ]
  },
  {
   "cell_type": "code",
   "execution_count": 23,
   "id": "247aa1fa",
   "metadata": {},
   "outputs": [
    {
     "data": {
      "image/png": "[encoded data removed]",
      "text/plain": [
       "<Figure size 640x480 with 1 Axes>"
      ]
     },
     "metadata": {},
     "output_type": "display_data"
    }
   ],
   "source": [
    "# Step 9: Visualize results (scatter plot, eigenvalues, etc.)\n",
    "\n",
    "from matplotlib import pyplot as plt\n",
    "\n",
    "plt.scatter(X_pca[:,0],X_pca[:,1],c=load_wine().target)\n",
    "plt.show()\n",
    "\n",
    "\n",
    "\n"
   ]
  }
 ],
 "metadata": {
  "kernelspec": {
   "display_name": "research",
   "language": "python",
   "name": "python3"
  },
  "language_info": {
   "codemirror_mode": {
    "name": "ipython",
    "version": 3
   },
   "file_extension": ".py",
   "mimetype": "text/x-python",
   "name": "python",
   "nbconvert_exporter": "python",
   "pygments_lexer": "ipython3",
   "version": "3.12.3"
  }
 },
 "nbformat": 4,
 "nbformat_minor": 5
}
