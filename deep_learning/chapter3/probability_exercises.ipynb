{
 "cells": [
  {
   "cell_type": "markdown",
   "metadata": {},
   "source": [
    "# 📘 Probability and Information Theory — Exercises\n",
    "\n",
    "**Prerequisites**: Read `probability_theory.md` for key concepts.\n",
    "\n",
    "These exercises help you implement and understand probability concepts used in deep learning."
   ]
  },
  {
   "cell_type": "markdown",
   "metadata": {},
   "source": [
    "## Exercise 1: Probability Basics\n",
    "A fair coin is flipped twice.\n",
    "1. List the sample space.\n",
    "2. Compute $P(\\text{at least one head})$.\n",
    "3. Compute $P(\\text{first flip is tail} \\mid \\text{total heads} = 1)$."
   ]
  },
  {
   "cell_type": "code",
   "execution_count": null,
   "metadata": {},
   "outputs": [],
   "source": [
    "# TODO: implement Exercise 1 calculations"
   ]
  },
  {
   "cell_type": "markdown",
   "metadata": {},
   "source": [
    "## Exercise 2: Gaussian Distribution\n",
    "Let $X \\sim \\mathcal{N}(0, 1)$.\n",
    "1. What is $P(X \\leq 0)$?\n",
    "2. Compute the expectation $\\mathbb{E}[X]$.\n",
    "3. Compute the variance $Var(X)$."
   ]
  },
  {
   "cell_type": "code",
   "execution_count": null,
   "metadata": {},
   "outputs": [],
   "source": [
    "# TODO: implement Exercise 2 calculations"
   ]
  },
  {
   "cell_type": "markdown",
   "metadata": {},
   "source": [
    "## Exercise 3: Bayes' Theorem\n",
    "A disease affects 1% of a population.\n",
    "- Test sensitivity: 99%\n",
    "- False positive rate: 5%\n",
    "\n",
    "If a patient tests positive:\n",
    "1. Compute $P(\\text{disease} \\mid \\text{positive})$.\n",
    "2. Interpret the result."
   ]
  },
  {
   "cell_type": "code",
   "execution_count": null,
   "metadata": {},
   "outputs": [],
   "source": [
    "# TODO: implement Exercise 3 calculations"
   ]
  },
  {
   "cell_type": "markdown",
   "metadata": {},
   "source": [
    "## Exercise 4: Entropy\n",
    "A random variable $X$ has distribution: $P(X=0)=0.25$, $P(X=1)=0.25$, $P(X=2)=0.5$.\n",
    "1. Compute entropy $H(X)$.\n",
    "2. Which outcome contributes most to entropy?"
   ]
  },
  {
   "cell_type": "code",
   "execution_count": null,
   "metadata": {},
   "outputs": [],
   "source": [
    "# TODO: implement Exercise 4 calculations"
   ]
  },
  {
   "cell_type": "markdown",
   "metadata": {},
   "source": [
    "## Exercise 5: Cross-Entropy and KL Divergence\n",
    "True distribution $P = (0.7, 0.3)$.\n",
    "Predicted distribution $Q = (0.6, 0.4)$.\n",
    "1. Compute cross-entropy $H(P, Q)$.\n",
    "2. Compute KL divergence $D_{KL}(P\\Vert Q)$."
   ]
  },
  {
   "cell_type": "code",
   "execution_count": null,
   "metadata": {},
   "outputs": [],
   "source": [
    "# TODO: implement Exercise 5 calculations"
   ]
  }
 ],
 "metadata": {
  "kernelspec": {
   "display_name": "Python 3",
   "language": "python",
   "name": "python3"
  },
  "language_info": {
   "codemirror_mode": {
    "name": "ipython",
    "version": 3
   },
   "file_extension": ".py",
   "mimetype": "text/x-python",
   "name": "python",
   "nbconvert_exporter": "python",
   "pygments_lexer": "ipython3",
   "version": "3.8.5"
  }
 },
 "nbformat": 4,
 "nbformat_minor": 4
}